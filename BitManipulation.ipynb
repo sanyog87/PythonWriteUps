{
 "cells": [
  {
   "cell_type": "code",
   "execution_count": 3,
   "id": "4718fdb7",
   "metadata": {},
   "outputs": [
    {
     "data": {
      "text/plain": [
       "-6"
      ]
     },
     "execution_count": 3,
     "metadata": {},
     "output_type": "execute_result"
    }
   ],
   "source": [
    "~5"
   ]
  },
  {
   "cell_type": "markdown",
   "id": "c40f97ed",
   "metadata": {},
   "source": [
    "#### Explanation of above :\n",
    "    5 = 0101\n",
    "    ~ -> NOT\n",
    "    ~5 = (flipping the bits of 5) = 1010\n",
    "    as signed bit is 1 it means it is -ve\n",
    "    to find out negative number - 010 for this...\n",
    "    we need to take 2's Complement of it\n",
    "    \n",
    "#### 2's Complement:\n",
    "    Step 1 - take 1's Complement (flipping the bits)\n",
    "    Step 2 - add 1\n",
    "    \n",
    "    i.e. : -b = ~b + 1\n",
    "    \n",
    "    010 -> 1s Complement -> 101 -> add 1 -> 101 + 1 -> 110 ## extra bits or extra 1 of carry get ignored /  forgets\n",
    "    output 110 is nothing but 6 and it is 1 at signed bit so it is -6\n",
    "   \n",
    "    \n",
    "  "
   ]
  },
  {
   "cell_type": "code",
   "execution_count": 10,
   "id": "fd89d649",
   "metadata": {},
   "outputs": [
    {
     "name": "stdout",
     "output_type": "stream",
     "text": [
      "-2 -5\n"
     ]
    }
   ],
   "source": [
    "print(-7-(-5) , -3-2)"
   ]
  },
  {
   "cell_type": "markdown",
   "id": "1d53f52e",
   "metadata": {},
   "source": [
    "#### Explanation :\n",
    "    Computer performs addition only\n",
    "    it will treat above expression as  -> -7 + (-(-5))\n",
    "    \n",
    "    -7 -> 7 -> 0111 -> 000 +1 -> 1001\n",
    "    -5 -> 5 -> 0101 -> 010 +1 -> 1011\n",
    "    -(-5) -> ~(-5) + 1 - > ~(1011) + 1 -> 0100 + 1 -> 0101\n",
    "    -7 + (-(-5)) = 1001 + 0101 -> 1110\n",
    "    1 -> -ve\n",
    "    110 -> ~(110) + 1 -> 001 + 1 -> 010\n",
    "    => -2\n",
    "    \n",
    "    \n",
    "    -3 -> ~(3) + 1 -> ~(011) + 1 -> 100 + 1 -> 1101\n",
    "    -2 -> ~(2) + 1 -> ~(010) + 1 -> 101 + 1 -> 1110\n",
    "    -3 + (-2) -> 1101 \n",
    "               + 1110 -> 1011 (## Extra 1 got igonored)\n",
    "               \n",
    "    => 1011 -> 1 means -ve and 011 -> ~(011) + 1 -> 100 + 1 -> 101 -> 5 => -5"
   ]
  },
  {
   "cell_type": "code",
   "execution_count": null,
   "id": "f534f0fe",
   "metadata": {},
   "outputs": [],
   "source": []
  }
 ],
 "metadata": {
  "kernelspec": {
   "display_name": "Python 3 (ipykernel)",
   "language": "python",
   "name": "python3"
  },
  "language_info": {
   "codemirror_mode": {
    "name": "ipython",
    "version": 3
   },
   "file_extension": ".py",
   "mimetype": "text/x-python",
   "name": "python",
   "nbconvert_exporter": "python",
   "pygments_lexer": "ipython3",
   "version": "3.9.12"
  }
 },
 "nbformat": 4,
 "nbformat_minor": 5
}
