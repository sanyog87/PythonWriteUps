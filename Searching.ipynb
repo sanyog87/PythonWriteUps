{
 "cells": [
  {
   "cell_type": "markdown",
   "id": "9fcc3b06",
   "metadata": {},
   "source": [
    "## MERGE SORT"
   ]
  },
  {
   "cell_type": "code",
   "execution_count": 97,
   "id": "57c6d7ad",
   "metadata": {},
   "outputs": [],
   "source": [
    "def searchInsert(A, B):\n",
    "    \n",
    "    start = 0\n",
    "    end = len(A)\n",
    "    low = 0\n",
    "\n",
    "    while(start < end):\n",
    "        mid = (start + end)//2\n",
    "        print(start, mid, end)\n",
    "        \n",
    "        if(mid<len(A) and A[mid] == B):\n",
    "            print(\"Found n breaking the loop\")\n",
    "            low = mid\n",
    "            break\n",
    "\n",
    "        elif (mid<len(A) and A[mid] < B):\n",
    "            start = mid + 1\n",
    "            \n",
    "        else:\n",
    "            end = mid - 1\n",
    "    else:\n",
    "#         if(mid==0):\n",
    "#             low==mid\n",
    "        if(A[mid]<B):\n",
    "            low = mid+1\n",
    "        elif(A[mid]>B):\n",
    "            low = mid\n",
    "#         if(mid==0):\n",
    "#             low=mid\n",
    "#         elif(B<A[start]):\n",
    "#             low=start\n",
    "#         elif(A[start]<B<A[end]):\n",
    "#             low=start+1\n",
    "#         elif(B>A[end]):\n",
    "#             low = end+1\n",
    "        \n",
    "            \n",
    "        \n",
    "    \n",
    "        \n",
    "        \n",
    "    \n",
    "    return low"
   ]
  },
  {
   "cell_type": "code",
   "execution_count": 105,
   "id": "70c3a735",
   "metadata": {},
   "outputs": [
    {
     "name": "stdout",
     "output_type": "stream",
     "text": [
      "0 5 10\n",
      "0 2 4\n",
      "0 0 1\n"
     ]
    },
    {
     "data": {
      "text/plain": [
       "1"
      ]
     },
     "execution_count": 105,
     "metadata": {},
     "output_type": "execute_result"
    }
   ],
   "source": [
    "searchInsert([3,5,7,9,11,13,15,17,19,21],4)"
   ]
  },
  {
   "cell_type": "code",
   "execution_count": 108,
   "id": "0f492add",
   "metadata": {},
   "outputs": [
    {
     "name": "stdout",
     "output_type": "stream",
     "text": [
      "0 3 6\n",
      "0 1 2\n"
     ]
    },
    {
     "data": {
      "text/plain": [
       "1"
      ]
     },
     "execution_count": 108,
     "metadata": {},
     "output_type": "execute_result"
    }
   ],
   "source": [
    "searchInsert([11,23,45,23,43,26],10)"
   ]
  },
  {
   "cell_type": "markdown",
   "id": "65121e2c",
   "metadata": {},
   "source": [
    "## WRONG Recursive Binary Search Q, looks correct but it is wrong in recursive manner"
   ]
  },
  {
   "cell_type": "code",
   "execution_count": 120,
   "id": "89e81447",
   "metadata": {},
   "outputs": [],
   "source": [
    "def recur_search(key, values, lower, upper):\n",
    "    if (upper < lower):\n",
    "        return False\n",
    "\n",
    "    mid = (lower + upper) // 2\n",
    "    #print(mid, key, values[mid])\n",
    "    \n",
    "    if (key == values[mid]):\n",
    "        return True;\n",
    "\n",
    "    elif (key < values[mid]):\n",
    "        recur_search(key, values, lower, mid - 1)\n",
    "\n",
    "    else: \n",
    "        recur_search(key, values, mid + 1, upper)\n",
    "\n",
    "    return False"
   ]
  },
  {
   "cell_type": "code",
   "execution_count": 122,
   "id": "35eeccec",
   "metadata": {},
   "outputs": [
    {
     "name": "stdout",
     "output_type": "stream",
     "text": [
      "False\n",
      "False\n",
      "True\n",
      "False\n"
     ]
    }
   ],
   "source": [
    "print(recur_search(1, [1, 2, 3, 4, 5], 0, 4))\n",
    "print(recur_search(5, [1, 2, 3, 4, 5], 0, 4))\n",
    "print(recur_search(3, [1, 2, 3, 4, 5], 0, 4))\n",
    "print(recur_search(5, [1, 2, 3, 4, 5], 0, 4))"
   ]
  },
  {
   "cell_type": "code",
   "execution_count": null,
   "id": "f66500cc",
   "metadata": {},
   "outputs": [],
   "source": []
  }
 ],
 "metadata": {
  "kernelspec": {
   "display_name": "Python 3 (ipykernel)",
   "language": "python",
   "name": "python3"
  },
  "language_info": {
   "codemirror_mode": {
    "name": "ipython",
    "version": 3
   },
   "file_extension": ".py",
   "mimetype": "text/x-python",
   "name": "python",
   "nbconvert_exporter": "python",
   "pygments_lexer": "ipython3",
   "version": "3.9.12"
  }
 },
 "nbformat": 4,
 "nbformat_minor": 5
}
