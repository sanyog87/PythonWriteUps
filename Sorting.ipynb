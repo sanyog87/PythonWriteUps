{
 "cells": [
  {
   "cell_type": "markdown",
   "id": "5d60a083",
   "metadata": {},
   "source": [
    "## BUBBLE SORT"
   ]
  },
  {
   "cell_type": "code",
   "execution_count": 3,
   "id": "ec6f0c54",
   "metadata": {},
   "outputs": [
    {
     "name": "stdout",
     "output_type": "stream",
     "text": [
      "[13, 19, 40, 46, 55, 78, 80, 86]\n",
      "99\n"
     ]
    }
   ],
   "source": [
    "arr = [46, 86, 55, 13, 19, 40, 80, 78]\n",
    "#k = 6\n",
    "for i in range (0, len(arr)):\n",
    "     for j in range(0, len(arr)-1):\n",
    "#         if(j+1 == k):\n",
    "#             break\n",
    "        \n",
    "        if(arr[j] > arr[j+1]):\n",
    "            arr[j+1] , arr[j] = arr[j] , arr[j+1]\n",
    "            \n",
    "        \n",
    "        \n",
    "print(arr)\n",
    "print(arr[0] + arr[len(arr)-1])"
   ]
  },
  {
   "cell_type": "markdown",
   "id": "20f64f82",
   "metadata": {},
   "source": [
    "## INSERTION SORT"
   ]
  },
  {
   "cell_type": "code",
   "execution_count": 2,
   "id": "6903f682",
   "metadata": {},
   "outputs": [
    {
     "name": "stdout",
     "output_type": "stream",
     "text": [
      "[1, 4, 5, 7, 12, 32, 34]\n",
      "7\n"
     ]
    }
   ],
   "source": [
    "#arr = [46, 86, 55, 13, 19, 40, 80, 78]\n",
    "arr = [12, 4, 5, 7, 1, 32, 34]\n",
    "#k=4\n",
    "for i in range (1,len(arr)):\n",
    "#     if(k==i-1):\n",
    "#         break\n",
    "    \n",
    "    key = arr[i]\n",
    "    j = i-1\n",
    "    while(key < arr[j] and j>=0 ):\n",
    "        arr[j+1] = arr[j]\n",
    "        j-=1\n",
    "    arr[j+1] = key\n",
    "print(arr)\n",
    "print(arr[len(arr)//2])"
   ]
  },
  {
   "cell_type": "code",
   "execution_count": null,
   "id": "ffdf6690",
   "metadata": {},
   "outputs": [],
   "source": []
  },
  {
   "cell_type": "code",
   "execution_count": null,
   "id": "63d6115f",
   "metadata": {},
   "outputs": [],
   "source": []
  }
 ],
 "metadata": {
  "kernelspec": {
   "display_name": "Python 3 (ipykernel)",
   "language": "python",
   "name": "python3"
  },
  "language_info": {
   "codemirror_mode": {
    "name": "ipython",
    "version": 3
   },
   "file_extension": ".py",
   "mimetype": "text/x-python",
   "name": "python",
   "nbconvert_exporter": "python",
   "pygments_lexer": "ipython3",
   "version": "3.9.12"
  }
 },
 "nbformat": 4,
 "nbformat_minor": 5
}
