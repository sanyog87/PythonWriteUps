{
 "cells": [
  {
   "cell_type": "markdown",
   "id": "97e5c16a",
   "metadata": {},
   "source": [
    "## MERGE SORT"
   ]
  },
  {
   "cell_type": "code",
   "execution_count": 4,
   "id": "b922b826",
   "metadata": {},
   "outputs": [],
   "source": [
    "def searchInsert(A, B):\n",
    "    \n",
    "    start = 0\n",
    "    end = len(A)\n",
    "    low = 0\n",
    "\n",
    "    while(start < end):\n",
    "        mid = (start + end)//2\n",
    "        print(start, mid, end)\n",
    "        \n",
    "        if(A[mid] == B):\n",
    "            print(\"Found n breaking the loop\")\n",
    "            low = mid\n",
    "            break\n",
    "\n",
    "        elif (A[mid] < B):\n",
    "            start = mid + 1\n",
    "            \n",
    "        else:\n",
    "            end = mid - 1\n",
    "    \n",
    "    return low"
   ]
  },
  {
   "cell_type": "code",
   "execution_count": 12,
   "id": "4e7310ff",
   "metadata": {},
   "outputs": [
    {
     "name": "stdout",
     "output_type": "stream",
     "text": [
      "0 5 10\n",
      "6 8 10\n",
      "9 9 10\n"
     ]
    },
    {
     "data": {
      "text/plain": [
       "9"
      ]
     },
     "execution_count": 12,
     "metadata": {},
     "output_type": "execute_result"
    }
   ],
   "source": [
    "searchInsert([3,5,7,9,11,13,15,17,19,21],24)"
   ]
  },
  {
   "cell_type": "code",
   "execution_count": null,
   "id": "d8e2a072",
   "metadata": {},
   "outputs": [],
   "source": []
  }
 ],
 "metadata": {
  "kernelspec": {
   "display_name": "Python 3 (ipykernel)",
   "language": "python",
   "name": "python3"
  },
  "language_info": {
   "codemirror_mode": {
    "name": "ipython",
    "version": 3
   },
   "file_extension": ".py",
   "mimetype": "text/x-python",
   "name": "python",
   "nbconvert_exporter": "python",
   "pygments_lexer": "ipython3",
   "version": "3.9.12"
  }
 },
 "nbformat": 4,
 "nbformat_minor": 5
}
