{
 "cells": [
  {
   "cell_type": "code",
   "execution_count": 1,
   "metadata": {},
   "outputs": [
    {
     "name": "stdout",
     "output_type": "stream",
     "text": [
      "Hello World\n"
     ]
    }
   ],
   "source": [
    "print(\"Hello World\")"
   ]
  },
  {
   "cell_type": "code",
   "execution_count": 2,
   "metadata": {},
   "outputs": [
    {
     "data": {
      "text/plain": [
       "1430154149752"
      ]
     },
     "execution_count": 2,
     "metadata": {},
     "output_type": "execute_result"
    }
   ],
   "source": [
    "id(print)"
   ]
  },
  {
   "cell_type": "code",
   "execution_count": 2,
   "metadata": {},
   "outputs": [
    {
     "data": {
      "text/plain": [
       "tuple"
      ]
     },
     "execution_count": 2,
     "metadata": {},
     "output_type": "execute_result"
    }
   ],
   "source": [
    "type((\"Hello\",7,7.0))"
   ]
  },
  {
   "cell_type": "code",
   "execution_count": 18,
   "metadata": {},
   "outputs": [
    {
     "name": "stdout",
     "output_type": "stream",
     "text": [
      "['Hello', 'World']\n"
     ]
    }
   ],
   "source": [
    "string = \"Hello Python World\"\n",
    "result = list(filter(lambda a: len(a)==5, string.split(\" \")))\n",
    "print(result)"
   ]
  },
  {
   "cell_type": "code",
   "execution_count": 16,
   "metadata": {},
   "outputs": [
    {
     "name": "stdout",
     "output_type": "stream",
     "text": [
      "['even', 'even', 'odd', 'odd', 'odd', 'odd', 'even']\n"
     ]
    }
   ],
   "source": [
    "list1=[2,4,5,7,9,13,78]\n",
    "a=list(map(lambda x: 'even' if x%2==0 else 'odd',list1))\n",
    "print(a)"
   ]
  },
  {
   "cell_type": "code",
   "execution_count": 137,
   "metadata": {},
   "outputs": [
    {
     "name": "stdout",
     "output_type": "stream",
     "text": [
      "[['San', 10], ['Mona', 20], ['Sam', 5], ['Same', 10], ['T', 5], ['R ro', 7], ['S', 34], ['M li', 7]]\n",
      "5.0\n",
      "[10, 20, 10, 7, 34, 7]\n",
      "7.0\n",
      "[['R ro', 7], ['M li', 7]]\n"
     ]
    }
   ],
   "source": [
    "students=['San','Mona','Sam','Same','T','R ro','S','M li']\n",
    "scores=[10,20,5,10,5,7,34,7]\n",
    "from functools import reduce\n",
    "student_data = list(map(lambda x,y: [x,y], students,scores))\n",
    "print(student_data)\n",
    "#student_dict = dict(map(lambda x,y: [x,y], students,scores))\n",
    "#print(student_dict)\n",
    "lowest_score = float(reduce(lambda x,y: x if x<y else y, scores))\n",
    "print(lowest_score)\n",
    "scores = list(filter(lambda x: x!=lowest_score, scores))\n",
    "print(scores)\n",
    "second_low_score = float(reduce(lambda x,y: x if x<y else y, scores))\n",
    "print(second_low_score)\n",
    "#second_names = [ x[0] for x in list(filter(lambda x: x[1]==second_low_score, student_data))]\n",
    "second_names = list(filter(lambda x: x[1]==second_low_score, student_data))\n",
    "#second_names = list(filter(lambda x,y,z=second_low_score: x.get(y)==z, student_dict))\n",
    "#second_names = list(reduce(lambda x: x[0][0] if x[0][1]==second_low_score else None, student_data))\n",
    "print(second_names)"
   ]
  },
  {
   "cell_type": "code",
   "execution_count": 64,
   "metadata": {},
   "outputs": [
    {
     "name": "stdout",
     "output_type": "stream",
     "text": [
      "[]\n"
     ]
    }
   ],
   "source": [
    "a = [[10.0, 'San'], [20.0, 'Mona'], [5.0, 'Sam'], [10.0, 'Same']]\n",
    "numbers=[10.0,20.0,5.0,10.0]\n",
    "list1 = list(filter(lambda x,y=10: x==y ,a))\n",
    "print(list1)"
   ]
  },
  {
   "cell_type": "code",
   "execution_count": 1,
   "metadata": {},
   "outputs": [
    {
     "data": {
      "text/plain": [
       "65"
      ]
     },
     "execution_count": 1,
     "metadata": {},
     "output_type": "execute_result"
    }
   ],
   "source": [
    "ord('A')"
   ]
  },
  {
   "cell_type": "code",
   "execution_count": 29,
   "metadata": {},
   "outputs": [
    {
     "name": "stdout",
     "output_type": "stream",
     "text": [
      "s 115\n",
      "chr_count++\n",
      "a 97\n",
      "chr_count++\n",
      "n 110\n",
      "chr_count++\n",
      "y 121\n",
      "chr_count++\n",
      "o 111\n",
      "chr_count++\n",
      "g 103\n",
      "chr_count++\n",
      "6 0\n"
     ]
    }
   ],
   "source": [
    "#A = \"UEbS1X7wGNCmV1682fjG6a\"\n",
    "A = \"sanyog\"\n",
    "chr_count, int_count = 0,0\n",
    "for i in A:\n",
    "    print(i,ord(i))\n",
    "    if('A' <= i <='Z'):\n",
    "        print(\"CHR_COUNT++\")\n",
    "        chr_count+=1\n",
    "    elif('a'<=i<='z'):\n",
    "        print(\"chr_count++\")\n",
    "        chr_count+=1\n",
    "    else:\n",
    "        print(\"int_count++\")\n",
    "        int_count+=1\n",
    "\n",
    "print(chr_count, int_count)"
   ]
  },
  {
   "cell_type": "code",
   "execution_count": 28,
   "metadata": {},
   "outputs": [
    {
     "data": {
      "text/plain": [
       "99"
      ]
     },
     "execution_count": 28,
     "metadata": {},
     "output_type": "execute_result"
    }
   ],
   "source": [
    "ord('c')"
   ]
  },
  {
   "cell_type": "code",
   "execution_count": 14,
   "metadata": {},
   "outputs": [
    {
     "data": {
      "text/plain": [
       "122"
      ]
     },
     "execution_count": 14,
     "metadata": {},
     "output_type": "execute_result"
    }
   ],
   "source": [
    "ord('z')"
   ]
  },
  {
   "cell_type": "code",
   "execution_count": 25,
   "metadata": {},
   "outputs": [
    {
     "name": "stdout",
     "output_type": "stream",
     "text": [
      "83\n",
      "65\n",
      "78\n",
      "89\n",
      "79\n",
      "71\n",
      "SANYOG\n"
     ]
    }
   ],
   "source": [
    "A=\"sanyog\"\n",
    "upper_case_string=\"\"\n",
    "for i in A:\n",
    "    print((65+(ord(i)-97)))\n",
    "    upper_case_string+=chr((65+(ord(i)-97)))\n",
    "print(upper_case_string)"
   ]
  },
  {
   "cell_type": "code",
   "execution_count": 53,
   "metadata": {},
   "outputs": [
    {
     "name": "stdout",
     "output_type": "stream",
     "text": [
      "['a@b.com', 'c@d.c']\n"
     ]
    }
   ],
   "source": [
    "emails=['a@b.com','c@d.c']\n",
    "verified_lex = []\n",
    "for email in emails:\n",
    "    valid = True\n",
    "    email_subtrings = email.split('@')\n",
    "    #Check 1 : Single @ in address\n",
    "    if(email.count('@')>1):\n",
    "        valid=False\n",
    "        continue\n",
    "    #Check 2 : If User and Domain Both are present\n",
    "    elif len(email_subtrings[0])==0 or len(email_subtrings[1])==0 :\n",
    "        valid=False\n",
    "        continue\n",
    "    #Check 3 : User Length should be 20\n",
    "    elif(len(email_subtrings[0])>20):\n",
    "        valid=False\n",
    "        continue        \n",
    "    #Check 4 : If domain contains . or not\n",
    "    elif('.' not in email_subtrings[1]):\n",
    "        valid=False\n",
    "        continue\n",
    "    else:\n",
    "        verified_lex.append(email)\n",
    "print(verified_lex)"
   ]
  },
  {
   "cell_type": "code",
   "execution_count": 141,
   "metadata": {},
   "outputs": [
    {
     "name": "stdout",
     "output_type": "stream",
     "text": [
      "['a@b.com', 'asda@casdf', 'c@d.c']\n"
     ]
    }
   ],
   "source": [
    "emails=['123456789012345678901@sdaf.co','a@b.com','c@d.c','o@k@l.n','@p.l','asda@casdf']\n",
    "#verified_lex = list(filter(lambda x: x.count('@')==1 and 0<len(x.split('@')[0])<20 and len(x.split('@')[1])>0 and '.' in x.split('@')[1], emails))\n",
    "verified_lex=list(filter(lambda x: x.count(\"@\")==1 and 0 < len(x.split(\"@\")[0]) <= 20 and len(x.split(\"@\")[1]) > 0, emails))\n",
    "verified_lex.sort()\n",
    "print(verified_lex)"
   ]
  },
  {
   "cell_type": "code",
   "execution_count": 74,
   "metadata": {},
   "outputs": [
    {
     "name": "stdout",
     "output_type": "stream",
     "text": [
      "[1, 2, 3, 4, 5]\n"
     ]
    }
   ],
   "source": [
    "array = [ [1, [ [ 2 ] ], [ [ [ 3 ] ] ], [ [ 4 ], 5 ] ]]\n",
    "result = lambda x: sum(map(result, x), [ ] ) if isinstance(x, list) else [x]\n",
    "print(result(array))"
   ]
  },
  {
   "cell_type": "code",
   "execution_count": 12,
   "metadata": {},
   "outputs": [
    {
     "name": "stdout",
     "output_type": "stream",
     "text": [
      "1 -2 3 -7 8 -9\n",
      "[-2, -7, -9]\n"
     ]
    }
   ],
   "source": [
    "integers=input().split(\" \")\n",
    "negative_integers=[]\n",
    "for x in range(len(integers)):\n",
    "    integers[x]=int(integers[x])\n",
    "    if(integers[x]!=0 and integers[x]<0):\n",
    "        negative_integers.append(integers[x])\n",
    "print(negative_integers)"
   ]
  },
  {
   "cell_type": "code",
   "execution_count": 31,
   "metadata": {},
   "outputs": [
    {
     "name": "stdout",
     "output_type": "stream",
     "text": [
      "4 -  22 34 56 78 90\n",
      "22 34 89 56 78 90\n",
      "['22', '34', '89', '56', '78', '90']\n"
     ]
    }
   ],
   "source": [
    "integers=\"22 34 56 78 90\"\n",
    "inte = integers.split(\" \")\n",
    "print(integers.count(\" \"), \"- \",integers)\n",
    "X=3\n",
    "Y=\"89\"\n",
    "inte.insert(X-1,Y)\n",
    "#=integers[0:X]+integers[X+1:len(integers)]\n",
    "#inte.remove(inte[X-1])\n",
    "#integers = ' '.join(x for x in inte)\n",
    "from functools import reduce\n",
    "integers = str(reduce(lambda x,y: x+\" \"+y,inte))\n",
    "print(integers)\n",
    "print(inte)\n"
   ]
  },
  {
   "cell_type": "code",
   "execution_count": 5,
   "metadata": {},
   "outputs": [
    {
     "name": "stdout",
     "output_type": "stream",
     "text": [
      "5 5 5 5 5 \n",
      "5 4 4 4 5 \n",
      "5 4 3 4 5 \n",
      "5 4 4 4 5 \n",
      "5 5 5 5 5 \n"
     ]
    }
   ],
   "source": [
    "# [[5,5,5,5,5],\n",
    "#  [5,4,4,4,5],\n",
    "#  [5,4,3,4,5],\n",
    "#  [5,4,4,4,5],\n",
    "#  [5,5,5,5,5]]\n",
    "n=5\n",
    "for i in range(n):\n",
    "    for j in range(n):\n",
    "        print(max(i+1,j+1,n-i,n-j), end=\" \")\n",
    "    print()\n"
   ]
  },
  {
   "cell_type": "code",
   "execution_count": 15,
   "metadata": {},
   "outputs": [
    {
     "data": {
      "text/plain": [
       "[[5, 5, 5, 5, 5],\n",
       " [5, 4, 4, 4, 5],\n",
       " [5, 4, 3, 4, 5],\n",
       " [5, 4, 4, 4, 5],\n",
       " [5, 5, 5, 5, 5]]"
      ]
     },
     "execution_count": 15,
     "metadata": {},
     "output_type": "execute_result"
    }
   ],
   "source": [
    "[[max(i+1,j+1,5-i,5-j) for i in range(0,5) ]for j in range(0,5)]"
   ]
  },
  {
   "cell_type": "code",
   "execution_count": 20,
   "metadata": {},
   "outputs": [
    {
     "data": {
      "text/plain": [
       "[[1, 1, 1, 1, 1],\n",
       " [1, 2, 2, 2, 1],\n",
       " [1, 2, 3, 2, 1],\n",
       " [1, 2, 2, 2, 1],\n",
       " [1, 1, 1, 1, 1]]"
      ]
     },
     "execution_count": 20,
     "metadata": {},
     "output_type": "execute_result"
    }
   ],
   "source": [
    "[[min(i+1,j+1,5-i,5-j) for i in range(0,5)]for j in range(0,5)]"
   ]
  },
  {
   "cell_type": "code",
   "execution_count": 33,
   "metadata": {},
   "outputs": [
    {
     "ename": "SyntaxError",
     "evalue": "invalid syntax (<ipython-input-33-2ad31cf9baa3>, line 1)",
     "output_type": "error",
     "traceback": [
      "\u001b[1;36m  File \u001b[1;32m\"<ipython-input-33-2ad31cf9baa3>\"\u001b[1;36m, line \u001b[1;32m1\u001b[0m\n\u001b[1;33m    type(lambda)\u001b[0m\n\u001b[1;37m               ^\u001b[0m\n\u001b[1;31mSyntaxError\u001b[0m\u001b[1;31m:\u001b[0m invalid syntax\n"
     ]
    }
   ],
   "source": [
    "type(lambda)"
   ]
  },
  {
   "cell_type": "code",
   "execution_count": 34,
   "metadata": {},
   "outputs": [
    {
     "data": {
      "text/plain": [
       "type"
      ]
     },
     "execution_count": 34,
     "metadata": {},
     "output_type": "execute_result"
    }
   ],
   "source": [
    "type(int)"
   ]
  },
  {
   "cell_type": "code",
   "execution_count": 36,
   "metadata": {},
   "outputs": [
    {
     "data": {
      "text/plain": [
       "type"
      ]
     },
     "execution_count": 36,
     "metadata": {},
     "output_type": "execute_result"
    }
   ],
   "source": [
    "type(float)"
   ]
  },
  {
   "cell_type": "code",
   "execution_count": 37,
   "metadata": {},
   "outputs": [
    {
     "ename": "SyntaxError",
     "evalue": "invalid syntax (<ipython-input-37-2ad31cf9baa3>, line 1)",
     "output_type": "error",
     "traceback": [
      "\u001b[1;36m  File \u001b[1;32m\"<ipython-input-37-2ad31cf9baa3>\"\u001b[1;36m, line \u001b[1;32m1\u001b[0m\n\u001b[1;33m    type(lambda)\u001b[0m\n\u001b[1;37m               ^\u001b[0m\n\u001b[1;31mSyntaxError\u001b[0m\u001b[1;31m:\u001b[0m invalid syntax\n"
     ]
    }
   ],
   "source": [
    "type(lambda)"
   ]
  },
  {
   "cell_type": "code",
   "execution_count": 38,
   "metadata": {},
   "outputs": [
    {
     "data": {
      "text/plain": [
       "int"
      ]
     },
     "execution_count": 38,
     "metadata": {},
     "output_type": "execute_result"
    }
   ],
   "source": [
    "type(int())"
   ]
  },
  {
   "cell_type": "code",
   "execution_count": 39,
   "metadata": {},
   "outputs": [
    {
     "name": "stdout",
     "output_type": "stream",
     "text": [
      "Object `lambda` not found.\n"
     ]
    }
   ],
   "source": [
    "lambda?"
   ]
  },
  {
   "cell_type": "code",
   "execution_count": 40,
   "metadata": {},
   "outputs": [
    {
     "ename": "SyntaxError",
     "evalue": "invalid syntax (<ipython-input-40-a33ea9559408>, line 1)",
     "output_type": "error",
     "traceback": [
      "\u001b[1;36m  File \u001b[1;32m\"<ipython-input-40-a33ea9559408>\"\u001b[1;36m, line \u001b[1;32m1\u001b[0m\n\u001b[1;33m    int()?\u001b[0m\n\u001b[1;37m         ^\u001b[0m\n\u001b[1;31mSyntaxError\u001b[0m\u001b[1;31m:\u001b[0m invalid syntax\n"
     ]
    }
   ],
   "source": [
    "int()?"
   ]
  },
  {
   "cell_type": "code",
   "execution_count": 41,
   "metadata": {},
   "outputs": [
    {
     "ename": "IndentationError",
     "evalue": "expected an indented block (<ipython-input-41-9b26e85d0964>, line 3)",
     "output_type": "error",
     "traceback": [
      "\u001b[1;36m  File \u001b[1;32m\"<ipython-input-41-9b26e85d0964>\"\u001b[1;36m, line \u001b[1;32m3\u001b[0m\n\u001b[1;33m    return func\u001b[0m\n\u001b[1;37m         ^\u001b[0m\n\u001b[1;31mIndentationError\u001b[0m\u001b[1;31m:\u001b[0m expected an indented block\n"
     ]
    }
   ],
   "source": [
    "def prety(func):\n",
    "    def prety(func):\n",
    "    return func"
   ]
  },
  {
   "cell_type": "code",
   "execution_count": 93,
   "metadata": {},
   "outputs": [],
   "source": [
    "def preety(function):\n",
    "    def wrapper(x):\n",
    "        print(\"*\"*20)\n",
    "        function(x)\n",
    "        print(\"*\"*20)\n",
    "    return wrapper\n",
    "        "
   ]
  },
  {
   "cell_type": "code",
   "execution_count": 94,
   "metadata": {},
   "outputs": [],
   "source": [
    "def hello(x):\n",
    "    print(\"Hello World\"+x)"
   ]
  },
  {
   "cell_type": "code",
   "execution_count": 95,
   "metadata": {},
   "outputs": [],
   "source": [
    "hello = preety(hello)"
   ]
  },
  {
   "cell_type": "code",
   "execution_count": 96,
   "metadata": {},
   "outputs": [
    {
     "name": "stdout",
     "output_type": "stream",
     "text": [
      "********************\n",
      "Hello Worldx\n",
      "********************\n"
     ]
    }
   ],
   "source": [
    "hello('x')"
   ]
  },
  {
   "cell_type": "code",
   "execution_count": 91,
   "metadata": {},
   "outputs": [],
   "source": [
    "@preety\n",
    "def hello1():\n",
    "    print(\"Hello Everyone\")"
   ]
  },
  {
   "cell_type": "code",
   "execution_count": 92,
   "metadata": {},
   "outputs": [
    {
     "name": "stdout",
     "output_type": "stream",
     "text": [
      "********************\n",
      "Hello Everyone\n",
      "********************\n"
     ]
    }
   ],
   "source": [
    "hello1()"
   ]
  },
  {
   "cell_type": "code",
   "execution_count": 100,
   "metadata": {},
   "outputs": [],
   "source": [
    "def sqr(x):\n",
    "    print(x**2)"
   ]
  },
  {
   "cell_type": "code",
   "execution_count": 102,
   "metadata": {},
   "outputs": [],
   "source": [
    "sqr = preety(sqr)"
   ]
  },
  {
   "cell_type": "code",
   "execution_count": 103,
   "metadata": {},
   "outputs": [
    {
     "name": "stdout",
     "output_type": "stream",
     "text": [
      "********************\n",
      "64\n",
      "********************\n"
     ]
    }
   ],
   "source": [
    "sqr(8)"
   ]
  },
  {
   "cell_type": "code",
   "execution_count": 12,
   "metadata": {},
   "outputs": [
    {
     "name": "stdout",
     "output_type": "stream",
     "text": [
      "False\n"
     ]
    }
   ],
   "source": [
    "#arr=[True,True,1,1,4,'ch']\n",
    "arr=[True,True,False,True,True]\n",
    "from functools import reduce\n",
    "ALL = bool(reduce(lambda x,y: x==True and y==True,arr))\n",
    "print(ALL)\n"
   ]
  },
  {
   "cell_type": "code",
   "execution_count": 14,
   "metadata": {},
   "outputs": [
    {
     "name": "stdout",
     "output_type": "stream",
     "text": [
      "True\n"
     ]
    }
   ],
   "source": [
    "#arr=[True,True,1,1,4,'ch']\n",
    "arr=[True,True,False,True,True]\n",
    "from functools import reduce\n",
    "ANY = bool(reduce(lambda x,y: x==True or y==True,arr))\n",
    "print(ANY)"
   ]
  },
  {
   "cell_type": "code",
   "execution_count": 32,
   "metadata": {},
   "outputs": [
    {
     "name": "stdout",
     "output_type": "stream",
     "text": [
      "100 37 77 70 9 45 78 80 29 60 12 28 74 36 2 30 13 55 94 40 79 95 63 21 89 81 86 96 78 96 7 75 85 36 97 46 82 75 26 11 87 90 92 62 27 46 44 92 2 90 84 81 37 48 55 79 81 93 75 60 41 34 35 78 71 32 24 53 59 50 16 47 93 60 61 72 7 57 16 9 99 1 42 88 1 97 67 82 43 42 42 84 29 29 63 0 61 87 5 73 90 \n",
      "[37, 77, 70, 9, 45, 78, 80, 29, 60, 12, 28, 74, 36, 2, 30, 13, 55, 94, 40, 79, 95, 63, 21, 89, 81, 86, 96, 78, 96, 7, 75, 85, 36, 97, 46, 82, 75, 26, 11, 87, 90, 92, 62, 27, 46, 44, 92, 2, 90, 84, 81, 37, 48, 55, 79, 81, 93, 75, 60, 41, 34, 35, 78, 71, 32, 24, 53, 59, 50, 16, 47, 93, 60, 61, 72, 7, 57, 16, 9, 99, 1, 42, 88, 1, 97, 67, 82, 43, 42, 42, 84, 29, 29, 63, 0, 61, 87, 5, 73, 90]\n",
      "5558\n"
     ]
    }
   ],
   "source": [
    "str_in = input().split(\" \")\n",
    "input_arr = [int(str_in[x]) for x in range(1,len(str_in)) if str_in[x]!='']\n",
    "print(input_arr)\n",
    "from functools import reduce\n",
    "sum_arr = int(reduce(lambda x,y: x+y, input_arr))\n",
    "print(sum_arr)"
   ]
  },
  {
   "cell_type": "code",
   "execution_count": null,
   "metadata": {},
   "outputs": [],
   "source": [
    "    #100 37 77 70 9 45 78 80 29 60 12 28 74 36 2 30 13 55 94 40 79 95 63 21 89 81 86 96 78 96 7 75 85 36 97 46 82 75 26 11 87 90 92 62 27 46 44 92 2 90 84 81 37 48 55 79 81 93 75 60 41 34 35 78 71 32 24 53 59 50 16 47 93 60 61 72 7 57 16 9 99 1 42 88 1 97 67 82 43 42 42 84 29 29 63 0 61 87 5 73 90 \n"
   ]
  },
  {
   "cell_type": "code",
   "execution_count": 39,
   "metadata": {},
   "outputs": [
    {
     "name": "stdout",
     "output_type": "stream",
     "text": [
      "['4']\n"
     ]
    }
   ],
   "source": [
    "i='4'\n",
    "arr=['5','4','3','2','1']\n",
    "arr_res=list(filter(lambda x: x==i, arr))\n",
    "print(arr_res)"
   ]
  },
  {
   "cell_type": "code",
   "execution_count": 45,
   "metadata": {},
   "outputs": [
    {
     "name": "stdout",
     "output_type": "stream",
     "text": [
      "1\n",
      "\n",
      "\n",
      "1\n"
     ]
    }
   ],
   "source": [
    "T = int(input())\n",
    "arr_res=[]\n",
    "for t in range(T):\n",
    "    arr=input().split(\" \")\n",
    "    #arr = [int(arr_str[j]) for j in arr_str if arr_str\n",
    "    i = input()\n",
    "    arr_res.append(1 if len(list(filter(lambda x: x==i, arr)))==1 else 0)\n",
    "\n",
    "for t in range(T):\n",
    "    print(arr_res[t])"
   ]
  },
  {
   "cell_type": "code",
   "execution_count": 6,
   "metadata": {},
   "outputs": [
    {
     "name": "stdout",
     "output_type": "stream",
     "text": [
      "a v g hn ty ui oi klj mnb \n",
      "2\n",
      "['hn', 'ty', 'ui', 'oi']\n"
     ]
    }
   ],
   "source": [
    "result=[]\n",
    "string=input().split(\" \")\n",
    "str_len=int(input())\n",
    "result=list(filter(lambda x: len(x)==str_len,string))\n",
    "\n",
    "#result=[x for x in string if len(x)==str_len]\n",
    "print(result)"
   ]
  },
  {
   "cell_type": "code",
   "execution_count": 125,
   "metadata": {},
   "outputs": [],
   "source": [
    "class Dog:\n",
    "    kind=\"cannine\"\n",
    "    tricks=[]\n",
    "    \n",
    "    def dog_name(self,name):\n",
    "        self.name = name\n",
    "    \n",
    "    def __call__(self):\n",
    "        print(\"I m walking\")"
   ]
  },
  {
   "cell_type": "code",
   "execution_count": 113,
   "metadata": {},
   "outputs": [
    {
     "name": "stdout",
     "output_type": "stream",
     "text": [
      "cannine\n",
      "[]\n"
     ]
    }
   ],
   "source": [
    "print(Dog.kind)\n",
    "print(Dog.tricks)"
   ]
  },
  {
   "cell_type": "code",
   "execution_count": 126,
   "metadata": {},
   "outputs": [
    {
     "name": "stdout",
     "output_type": "stream",
     "text": [
      "['catch'] Bluffy Active\n",
      "I m walking\n",
      "['catch', 'run'] Fluffy Slow None\n",
      "['catch', 'run'] cannine\n"
     ]
    }
   ],
   "source": [
    "dog1 = Dog()\n",
    "dog1.dog_name(\"Bluffy\")\n",
    "dog1.tricks.append(\"catch\")\n",
    "dog1.kind = \"Active\"\n",
    "print(dog1.tricks, dog1.name, dog1.kind)\n",
    "dog2 = Dog()\n",
    "dog2.dog_name(\"Fluffy\")\n",
    "dog2.tricks.append(\"run\")\n",
    "dog2.kind = \"Slow\"\n",
    "print(dog2.tricks, dog2.name, dog2.kind, dog2())\n",
    "print(Dog.tricks, Dog.kind)\n"
   ]
  },
  {
   "cell_type": "code",
   "execution_count": 12,
   "metadata": {},
   "outputs": [],
   "source": [
    "dog1.say_name(\"Tuffy\")"
   ]
  },
  {
   "cell_type": "code",
   "execution_count": 13,
   "metadata": {},
   "outputs": [
    {
     "data": {
      "text/plain": [
       "'Tuffy'"
      ]
     },
     "execution_count": 13,
     "metadata": {},
     "output_type": "execute_result"
    }
   ],
   "source": [
    "dog1.name"
   ]
  },
  {
   "cell_type": "code",
   "execution_count": 16,
   "metadata": {},
   "outputs": [],
   "source": [
    "dog1.kind=\"xyz\""
   ]
  },
  {
   "cell_type": "code",
   "execution_count": 17,
   "metadata": {},
   "outputs": [
    {
     "data": {
      "text/plain": [
       "'xyz'"
      ]
     },
     "execution_count": 17,
     "metadata": {},
     "output_type": "execute_result"
    }
   ],
   "source": [
    "dog1.kind"
   ]
  },
  {
   "cell_type": "code",
   "execution_count": 18,
   "metadata": {},
   "outputs": [
    {
     "data": {
      "text/plain": [
       "'abc'"
      ]
     },
     "execution_count": 18,
     "metadata": {},
     "output_type": "execute_result"
    }
   ],
   "source": [
    "Dog.kind"
   ]
  },
  {
   "cell_type": "code",
   "execution_count": 103,
   "metadata": {},
   "outputs": [],
   "source": [
    "class MyIterator:\n",
    "    def __init__(a,n):\n",
    "        a.n = n\n",
    "    \n",
    "    def __iter__(self):\n",
    "        return MyIteratorNext(self)\n",
    "    \n",
    "class MyIteratorNext:\n",
    "    def __init__(self,myIteratorObj):\n",
    "        self.i = 0\n",
    "        self.myIteratorObj = myIteratorObj\n",
    "    \n",
    "    def __next__(self):\n",
    "        if(self.i == self.myIteratorObj.n):\n",
    "            raise StopIteration\n",
    "        to_return = self.i\n",
    "        self.i = self.i +2\n",
    "        return to_return\n",
    "    \n",
    "    "
   ]
  },
  {
   "cell_type": "code",
   "execution_count": 46,
   "metadata": {},
   "outputs": [
    {
     "data": {
      "text/plain": [
       "type"
      ]
     },
     "execution_count": 46,
     "metadata": {},
     "output_type": "execute_result"
    }
   ],
   "source": [
    "type(MyIterator)"
   ]
  },
  {
   "cell_type": "code",
   "execution_count": 104,
   "metadata": {},
   "outputs": [],
   "source": [
    "mt1 = iter(MyIterator(5))"
   ]
  },
  {
   "cell_type": "code",
   "execution_count": 87,
   "metadata": {},
   "outputs": [
    {
     "data": {
      "text/plain": [
       "__main__.MyIteratorNext"
      ]
     },
     "execution_count": 87,
     "metadata": {},
     "output_type": "execute_result"
    }
   ],
   "source": [
    "type(mt1)"
   ]
  },
  {
   "cell_type": "code",
   "execution_count": 106,
   "metadata": {},
   "outputs": [
    {
     "data": {
      "text/plain": [
       "2"
      ]
     },
     "execution_count": 106,
     "metadata": {},
     "output_type": "execute_result"
    }
   ],
   "source": [
    "next(mt1)"
   ]
  },
  {
   "cell_type": "code",
   "execution_count": 29,
   "metadata": {},
   "outputs": [
    {
     "data": {
      "text/plain": [
       "2"
      ]
     },
     "execution_count": 29,
     "metadata": {},
     "output_type": "execute_result"
    }
   ],
   "source": [
    "next(it)"
   ]
  },
  {
   "cell_type": "code",
   "execution_count": 75,
   "metadata": {},
   "outputs": [
    {
     "name": "stdout",
     "output_type": "stream",
     "text": [
      "0\n",
      "1\n",
      "2\n",
      "3\n",
      "4\n",
      "5\n",
      "6\n",
      "7\n",
      "8\n",
      "9\n"
     ]
    }
   ],
   "source": [
    "for x in MyIterator(10):\n",
    "    print(x)"
   ]
  },
  {
   "cell_type": "code",
   "execution_count": 77,
   "metadata": {},
   "outputs": [
    {
     "data": {
      "text/plain": [
       "[1, 3, 5, 7, 9]"
      ]
     },
     "execution_count": 77,
     "metadata": {},
     "output_type": "execute_result"
    }
   ],
   "source": [
    "list(filter(lambda x: x%2==1, MyIterator(10)))"
   ]
  },
  {
   "cell_type": "markdown",
   "metadata": {},
   "source": [
    "print(120//60)"
   ]
  },
  {
   "cell_type": "code",
   "execution_count": 4,
   "metadata": {},
   "outputs": [
    {
     "name": "stdout",
     "output_type": "stream",
     "text": [
      "50\n"
     ]
    }
   ],
   "source": [
    "print(50%60)"
   ]
  },
  {
   "cell_type": "code",
   "execution_count": null,
   "metadata": {},
   "outputs": [],
   "source": []
  }
 ],
 "metadata": {
  "kernelspec": {
   "display_name": "Python 3",
   "language": "python",
   "name": "python3"
  },
  "language_info": {
   "codemirror_mode": {
    "name": "ipython",
    "version": 3
   },
   "file_extension": ".py",
   "mimetype": "text/x-python",
   "name": "python",
   "nbconvert_exporter": "python",
   "pygments_lexer": "ipython3",
   "version": "3.6.5"
  },
  "widgets": {
   "application/vnd.jupyter.widget-state+json": {
    "state": {},
    "version_major": 2,
    "version_minor": 0
   }
  }
 },
 "nbformat": 4,
 "nbformat_minor": 2
}
