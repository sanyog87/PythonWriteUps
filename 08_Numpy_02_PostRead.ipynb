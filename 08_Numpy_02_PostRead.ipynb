{
  "cells": [
    {
      "cell_type": "markdown",
      "metadata": {
        "id": "view-in-github",
        "colab_type": "text"
      },
      "source": [
        "<a href=\"https://colab.research.google.com/github/sanyog87/PythonWriteUps/blob/main/08_Numpy_02_PostRead.ipynb\" target=\"_parent\"><img src=\"https://colab.research.google.com/assets/colab-badge.svg\" alt=\"Open In Colab\"/></a>"
      ]
    },
    {
      "cell_type": "markdown",
      "metadata": {
        "id": "ESOJ2j3B04EQ"
      },
      "source": [
        "# Supplementary Post Read for Numpy-1\n",
        "\n",
        "In this reading, we'll cover some more useful functionality provided by Numpy"
      ],
      "id": "ESOJ2j3B04EQ"
    },
    {
      "cell_type": "markdown",
      "metadata": {
        "id": "1lA2Y4o804EY"
      },
      "source": [
        "## Content\n",
        "\n",
        "- **Datatypes**\n",
        "\n",
        "- **Absolute values**\n",
        "    - `np.absolute()`\n",
        "    - `np.abs()`\n",
        " \n",
        " \n",
        "- **Partitioning**\n",
        "    - `np.partition()`\n",
        "    - `np.argpartition()`\n",
        "    \n",
        "- **Resize**\n",
        "    - `np.resize()`\n",
        "\n",
        "\n",
        "- **Some more useful ufuncs**\n",
        "\n",
        "- **Aggregate Functions**\n",
        "    - `np.median()`\n",
        "\n",
        "\n",
        "- **Trigonometric Functions**\n",
        "    - `np.sin()`, `np.cos()`\n",
        "    \n",
        "    \n",
        "- **Exponential and Logarithmic Functions**\n",
        "    - `np.exp()`, `np.log()`, `np.log2()`, `np.log10()`\n",
        "    \n",
        "- **Condtional functions**\n",
        "    - `np.where()`\n",
        "    \n",
        "- **Sorting**\n",
        "    - `np.ndarray.sort()`\n",
        "    "
      ],
      "id": "1lA2Y4o804EY"
    },
    {
      "cell_type": "code",
      "execution_count": null,
      "metadata": {
        "id": "6DzVoOdm04Ea"
      },
      "outputs": [],
      "source": [
        "import numpy as np\n",
        "\n",
        "from matplotlib import pyplot as plt\n"
      ],
      "id": "6DzVoOdm04Ea"
    },
    {
      "cell_type": "markdown",
      "metadata": {
        "id": "aD2qK8CS04Eb"
      },
      "source": [
        "## Datatypes in numpy array"
      ],
      "id": "aD2qK8CS04Eb"
    },
    {
      "cell_type": "markdown",
      "metadata": {
        "id": "1jrRaHO_04Ec"
      },
      "source": [
        "You can create numpy arrays of following data types:\n",
        "\n",
        "\n",
        "![image.png](attachment:image.png)"
      ],
      "id": "1jrRaHO_04Ec"
    },
    {
      "cell_type": "code",
      "execution_count": null,
      "metadata": {
        "id": "gG4FOILT04Ed"
      },
      "outputs": [],
      "source": [
        "arr = np.array([4 + 2j, 6 + 7j])"
      ],
      "id": "gG4FOILT04Ed"
    },
    {
      "cell_type": "code",
      "execution_count": null,
      "metadata": {
        "id": "LlIfWhiE04Ed",
        "outputId": "afd1be87-0bdb-4c7a-b0e2-87cb1ab36241"
      },
      "outputs": [
        {
          "data": {
            "text/plain": [
              "array([4.+2.j, 6.+7.j])"
            ]
          },
          "execution_count": 35,
          "metadata": {},
          "output_type": "execute_result"
        }
      ],
      "source": [
        "arr"
      ],
      "id": "LlIfWhiE04Ed"
    },
    {
      "cell_type": "code",
      "execution_count": null,
      "metadata": {
        "id": "cTlYu7Eq04Ef",
        "outputId": "14cb238e-a149-4481-aeec-bcd8ad498c03"
      },
      "outputs": [
        {
          "data": {
            "text/plain": [
              "dtype('complex128')"
            ]
          },
          "execution_count": 34,
          "metadata": {},
          "output_type": "execute_result"
        }
      ],
      "source": [
        "arr.dtype"
      ],
      "id": "cTlYu7Eq04Ef"
    },
    {
      "cell_type": "markdown",
      "metadata": {
        "id": "FEaSfhNL04Eg"
      },
      "source": [
        "You can read more about it here: **https://docs.scipy.org/doc/numpy-1.10.1/user/basics.types.html**"
      ],
      "id": "FEaSfhNL04Eg"
    },
    {
      "cell_type": "markdown",
      "metadata": {
        "id": "OiADjE5o04Eh"
      },
      "source": [
        "## Arrays Filled with Sequences\n"
      ],
      "id": "OiADjE5o04Eh"
    },
    {
      "cell_type": "markdown",
      "metadata": {
        "id": "yKFTLpp804Eh"
      },
      "source": [
        "### `np.logspace()`\n",
        "\n",
        "The function `np.logspace()` is similar to `np.linspace()`, but the **increments between the elements in the array are logarithmically distributed**, and the first two arguments, for the **start** and **end** values, are the**powers of the optional base keyword argument (which defaults to 10)**. \n",
        "\n",
        "\n",
        "#### For example, to generate an array with logarithmically distributed values between 1 and 100, we can use:"
      ],
      "id": "yKFTLpp804Eh"
    },
    {
      "cell_type": "code",
      "execution_count": null,
      "metadata": {
        "id": "Mpojm8jK04Ei",
        "outputId": "ab32127c-8e84-4301-fcb2-12b72dc0f10c"
      },
      "outputs": [
        {
          "data": {
            "text/plain": [
              "array([  1.        ,   3.16227766,  10.        ,  31.6227766 ,\n",
              "       100.        ])"
            ]
          },
          "execution_count": 23,
          "metadata": {},
          "output_type": "execute_result"
        }
      ],
      "source": [
        "np.logspace(0, 2, 5) # 5 data points between 10**0=1 to 10**2=100"
      ],
      "id": "Mpojm8jK04Ei"
    },
    {
      "cell_type": "markdown",
      "metadata": {
        "id": "mI6snUIn04Ej"
      },
      "source": [
        "***"
      ],
      "id": "mI6snUIn04Ej"
    },
    {
      "cell_type": "markdown",
      "metadata": {
        "id": "bpRrBr0N04Ej"
      },
      "source": [
        "## Absolute values\n",
        "\n",
        "At times, we might need to find absolute values of elements in array. Numpy provides a very easy-to-use function for this purpose\n",
        "\n",
        "### `np.absolute()`\n",
        "\n",
        "It calculate the absolute value element-wise. It returns an ndarray containing the absolute value of each element."
      ],
      "id": "bpRrBr0N04Ej"
    },
    {
      "cell_type": "code",
      "execution_count": null,
      "metadata": {
        "id": "w86j73C904Ej",
        "outputId": "20ad9f56-1545-4db9-820f-ababda554184"
      },
      "outputs": [
        {
          "data": {
            "text/plain": [
              "array([1.2, 1.2])"
            ]
          },
          "execution_count": 3,
          "metadata": {},
          "output_type": "execute_result"
        }
      ],
      "source": [
        "x = np.array([-1.2, 1.2])\n",
        "np.absolute(x)"
      ],
      "id": "w86j73C904Ej"
    },
    {
      "cell_type": "markdown",
      "metadata": {
        "id": "w34lrMj-04Ek"
      },
      "source": [
        "If the input is a complex value, like `x = a + ib`, the absolute value is $\\sqrt(a^2 + b^2)$. This is a scalar if x is a scalar."
      ],
      "id": "w34lrMj-04Ek"
    },
    {
      "cell_type": "code",
      "execution_count": null,
      "metadata": {
        "id": "XKFyzaSL04Ek",
        "outputId": "21dadd94-70c7-4d8f-8770-10c41b7cd687"
      },
      "outputs": [
        {
          "data": {
            "text/plain": [
              "1.5620499351813308"
            ]
          },
          "execution_count": 4,
          "metadata": {},
          "output_type": "execute_result"
        }
      ],
      "source": [
        "np.absolute(1.2 + 1j)"
      ],
      "id": "XKFyzaSL04Ek"
    },
    {
      "cell_type": "markdown",
      "metadata": {
        "id": "5WJj1stt04El"
      },
      "source": [
        "### `np.abs()`\n",
        "The `abs` function can be used as a shorthand for `np.absolute` on ndarrays."
      ],
      "id": "5WJj1stt04El"
    },
    {
      "cell_type": "code",
      "execution_count": null,
      "metadata": {
        "id": "tV7lLEVD04El",
        "outputId": "2de5f393-db7c-4057-ae6e-8ccce2cd8f59"
      },
      "outputs": [
        {
          "data": {
            "text/plain": [
              "array([1.2, 1.2])"
            ]
          },
          "execution_count": 5,
          "metadata": {},
          "output_type": "execute_result"
        }
      ],
      "source": [
        "x = np.array([-1.2, 1.2])\n",
        "np.abs(x)"
      ],
      "id": "tV7lLEVD04El"
    },
    {
      "cell_type": "markdown",
      "metadata": {
        "id": "S5-jlfIw04El"
      },
      "source": [
        "***"
      ],
      "id": "S5-jlfIw04El"
    },
    {
      "cell_type": "markdown",
      "metadata": {
        "id": "wzcUZ-uC04Em"
      },
      "source": [
        "## Partitioning\n",
        "\n",
        "We can partially sort Numpy arrays using the functions provided in the library. Let's see how:\n",
        "\n",
        "### `np.partition()`\n",
        "\n",
        "This method returns a partitioned copy of an array.\n",
        "\n",
        "\n",
        "It creates a copy of the array with its elements rearranged in such a way that the value of the element in k-th position is in the position it would be in a sorted array. All elements smaller than the k-th element are moved before this element and all equal or greater are moved behind it. The ordering of the elements in the two partitions is undefined.\n",
        "\n",
        "\n",
        "#### Let's see it in action:"
      ],
      "id": "wzcUZ-uC04Em"
    },
    {
      "cell_type": "code",
      "execution_count": null,
      "metadata": {
        "id": "0CEwxOyc04Em",
        "outputId": "9c27bd29-607c-401f-8307-6bce94c91be9"
      },
      "outputs": [
        {
          "data": {
            "text/plain": [
              "array([3, 4, 2, 1])"
            ]
          },
          "execution_count": 11,
          "metadata": {},
          "output_type": "execute_result"
        }
      ],
      "source": [
        "a = np.array([3, 4, 2, 1])\n",
        "a"
      ],
      "id": "0CEwxOyc04Em"
    },
    {
      "cell_type": "code",
      "execution_count": null,
      "metadata": {
        "id": "uSu59M1C04Em",
        "outputId": "347ebac2-1df9-4183-e5a0-5d00026e0831"
      },
      "outputs": [
        {
          "data": {
            "text/plain": [
              "array([2, 1, 3, 4])"
            ]
          },
          "execution_count": 12,
          "metadata": {},
          "output_type": "execute_result"
        }
      ],
      "source": [
        "np.partition(a, 3)"
      ],
      "id": "uSu59M1C04Em"
    },
    {
      "cell_type": "markdown",
      "metadata": {
        "id": "CgCzXoH604En"
      },
      "source": [
        "3rd element in the sorted array would have been 3. So 3 is placed at the 3rd position (index 2). Rest all the elements are placed in such a manner that all elements less than partitioning element are placed before it and all elements greater than or equal to partitioning element are placed after it. The ordering of elements in the two partitions is not fixed. So, it's not sorting.\n",
        "\n",
        "\n",
        "Now, if we provide with a sequence of k-th instead of a single integer value like above, it will partition all elements indexed by k-th of them into their sorted position at once. Let's see it:"
      ],
      "id": "CgCzXoH604En"
    },
    {
      "cell_type": "code",
      "execution_count": null,
      "metadata": {
        "id": "wAGyk7St04En"
      },
      "outputs": [],
      "source": [
        "a = np.array([32, 50, 27, 10, 43])"
      ],
      "id": "wAGyk7St04En"
    },
    {
      "cell_type": "code",
      "execution_count": null,
      "metadata": {
        "id": "O2Vk67zT04En",
        "outputId": "9f3aa98b-7d11-4d70-f538-fd4a99aeec27"
      },
      "outputs": [
        {
          "data": {
            "text/plain": [
              "array([10, 27, 32, 43, 50])"
            ]
          },
          "execution_count": 17,
          "metadata": {},
          "output_type": "execute_result"
        }
      ],
      "source": [
        "np.partition(a, (1, 3))"
      ],
      "id": "O2Vk67zT04En"
    },
    {
      "cell_type": "markdown",
      "metadata": {
        "id": "gwyw4Ah804Eo"
      },
      "source": [
        "1st element (index 0) in the sorted array would have been 10 and 3rd element (index 2) in the sorted array would have been 32. So, 10 and 32 are placed in the positions where they would have been in a sorted array. Rest all elements are placed such that all elements less than 10 are before it, all elements greater than 10 are after it, all elements less than 32 are before it and all elements greater than 32 are after it."
      ],
      "id": "gwyw4Ah804Eo"
    },
    {
      "cell_type": "markdown",
      "metadata": {
        "id": "4Xd7bzn_04Eo"
      },
      "source": [
        "### `np.argpartition()`\n",
        "\n",
        "It works just like `agrsort()` we saw in the lecture. It perform an indirect partition along the given axis using the algorithm specified by the kind keyword. It returns an array of indices of the same shape as the array that index data along the given axis in partitioned order.\n",
        "\n",
        "#### Let's see its working:"
      ],
      "id": "4Xd7bzn_04Eo"
    },
    {
      "cell_type": "code",
      "execution_count": null,
      "metadata": {
        "id": "8QV3viSl04Eo",
        "outputId": "5051ed57-f452-41de-f8a5-9763f1398179"
      },
      "outputs": [
        {
          "data": {
            "text/plain": [
              "array([2, 3, 0, 1])"
            ]
          },
          "execution_count": 19,
          "metadata": {},
          "output_type": "execute_result"
        }
      ],
      "source": [
        "x = np.array([30, 40, 20, 10])\n",
        "np.argpartition(x, 3)"
      ],
      "id": "8QV3viSl04Eo"
    },
    {
      "cell_type": "markdown",
      "metadata": {
        "id": "aGAu4Aon04Ep"
      },
      "source": [
        "This is an indirect partitioning using indices. Instead of array of elements, it gives a paritoned array of orginial indices of those elements. \n",
        "\n",
        "\n",
        "The element 30 at index 0 in original array would have been at 3rd position in sorted array. So, 0 is placed at 3rd position. Rest all original indices are arranged such that indices whose corresponding elements are less than the partitioning element are before that index 0 and indices whose corresponding elements are greater than the partitioning element are after that index 0."
      ],
      "id": "aGAu4Aon04Ep"
    },
    {
      "cell_type": "markdown",
      "metadata": {
        "id": "K_ygjiEN04Ep"
      },
      "source": [
        "***"
      ],
      "id": "K_ygjiEN04Ep"
    },
    {
      "cell_type": "markdown",
      "metadata": {
        "id": "F2AH2Ayl04Ep"
      },
      "source": [
        "## Resize\n",
        "\n",
        "**It is similar to `reshape()`**"
      ],
      "id": "F2AH2Ayl04Ep"
    },
    {
      "cell_type": "code",
      "execution_count": null,
      "metadata": {
        "id": "FJOtCqBO04Ep",
        "outputId": "f1f9ed33-e86d-41ba-8a84-b9fba6a775e5"
      },
      "outputs": [
        {
          "data": {
            "text/plain": [
              "array([[0, 1, 2, 3],\n",
              "       [0, 0, 0, 0]])"
            ]
          },
          "execution_count": 3,
          "metadata": {},
          "output_type": "execute_result"
        }
      ],
      "source": [
        "a = np.arange(4)\n",
        "a.resize((2,4))\n",
        "a"
      ],
      "id": "FJOtCqBO04Ep"
    },
    {
      "cell_type": "markdown",
      "metadata": {
        "id": "4maKm9JO04Eq"
      },
      "source": [
        "### what is the difference then between resize and reshape?\n",
        "\n",
        "The difference is that it'll add extra zeros to it if shape exceeds number of elements. However, there is a catch: it'll throw an error if array is referenced somewhere and you try resizing it"
      ],
      "id": "4maKm9JO04Eq"
    },
    {
      "cell_type": "code",
      "execution_count": null,
      "metadata": {
        "id": "X1a0rUWH04Eq",
        "outputId": "acd87bc8-e2f6-4781-8138-c80c4566982c"
      },
      "outputs": [
        {
          "ename": "ValueError",
          "evalue": "cannot resize an array that references or is referenced\nby another array in this way.\nUse the np.resize function or refcheck=False",
          "output_type": "error",
          "traceback": [
            "\u001b[1;31m---------------------------------------------------------------------------\u001b[0m",
            "\u001b[1;31mValueError\u001b[0m                                Traceback (most recent call last)",
            "\u001b[1;32m<ipython-input-4-6e04a2659d2b>\u001b[0m in \u001b[0;36m<module>\u001b[1;34m()\u001b[0m\n\u001b[0;32m      1\u001b[0m \u001b[0mb\u001b[0m \u001b[1;33m=\u001b[0m \u001b[0ma\u001b[0m\u001b[1;33m\u001b[0m\u001b[0m\n\u001b[1;32m----> 2\u001b[1;33m \u001b[0ma\u001b[0m\u001b[1;33m.\u001b[0m\u001b[0mresize\u001b[0m\u001b[1;33m(\u001b[0m\u001b[1;33m(\u001b[0m\u001b[1;36m10\u001b[0m\u001b[1;33m,\u001b[0m\u001b[1;33m)\u001b[0m\u001b[1;33m)\u001b[0m\u001b[1;33m\u001b[0m\u001b[0m\n\u001b[0m",
            "\u001b[1;31mValueError\u001b[0m: cannot resize an array that references or is referenced\nby another array in this way.\nUse the np.resize function or refcheck=False"
          ]
        }
      ],
      "source": [
        "b = a\n",
        "a.resize((10,))"
      ],
      "id": "X1a0rUWH04Eq"
    },
    {
      "cell_type": "markdown",
      "metadata": {
        "id": "AaMQHYKI04Eq"
      },
      "source": [
        "## Some more useful ufuncs for you\n",
        "\n"
      ],
      "id": "AaMQHYKI04Eq"
    },
    {
      "cell_type": "markdown",
      "metadata": {
        "id": "X7qAJ2oj04Er"
      },
      "source": [
        "## Aggregate Functions\n",
        "\n",
        "\n",
        "### `np.median()`\n",
        "\n",
        "- `np.median()` gives **median of all values in np array**"
      ],
      "id": "X7qAJ2oj04Er"
    },
    {
      "cell_type": "code",
      "execution_count": null,
      "metadata": {
        "id": "tQ7NVM6a04Er",
        "outputId": "9c89855b-9cc6-4b7f-ac02-dff9ab99e3a7"
      },
      "outputs": [
        {
          "data": {
            "text/plain": [
              "array([[ 0,  1,  2,  3],\n",
              "       [ 4,  5,  6,  7],\n",
              "       [ 8,  9, 10, 11]])"
            ]
          },
          "execution_count": 9,
          "metadata": {},
          "output_type": "execute_result"
        }
      ],
      "source": [
        "\n",
        "a = np.arange(12).reshape(3, 4)\n",
        "a"
      ],
      "id": "tQ7NVM6a04Er"
    },
    {
      "cell_type": "code",
      "execution_count": null,
      "metadata": {
        "id": "rO-yIdcr04Er",
        "outputId": "91618f18-017f-4d50-a2c1-d8c88bd99c49"
      },
      "outputs": [
        {
          "data": {
            "text/plain": [
              "5.5"
            ]
          },
          "execution_count": 10,
          "metadata": {},
          "output_type": "execute_result"
        }
      ],
      "source": [
        "np.median(a)"
      ],
      "id": "rO-yIdcr04Er"
    },
    {
      "cell_type": "markdown",
      "metadata": {
        "id": "8zIZSDZS04Es"
      },
      "source": [
        "### we can to find the median of elements for each row or column\n",
        "\n",
        "- **with `axis` parameter** like we did for `np.mean()` function"
      ],
      "id": "8zIZSDZS04Es"
    },
    {
      "cell_type": "markdown",
      "metadata": {
        "id": "DdB-4Qph04Es"
      },
      "source": [
        "- **`axis = 0` ---> Changes will happen along the vertical axis**\n",
        "- Median of values will be calculated **in the vertical direction**\n",
        "- Rows collapse/merge when we do `axis=0`"
      ],
      "id": "DdB-4Qph04Es"
    },
    {
      "cell_type": "code",
      "execution_count": null,
      "metadata": {
        "id": "YwMmfZ-P04Es",
        "outputId": "7ffb9a6e-eddc-40f9-f7f3-a5658f0627e4"
      },
      "outputs": [
        {
          "data": {
            "text/plain": [
              "array([4., 5., 6., 7.])"
            ]
          },
          "execution_count": 11,
          "metadata": {},
          "output_type": "execute_result"
        }
      ],
      "source": [
        "np.median(a, axis = 0)"
      ],
      "id": "YwMmfZ-P04Es"
    },
    {
      "cell_type": "markdown",
      "metadata": {
        "id": "mRE6zL6i04Et"
      },
      "source": [
        "Similarly, you can find the median along the horizontal axis as well using **`axis = 1`**"
      ],
      "id": "mRE6zL6i04Et"
    },
    {
      "cell_type": "code",
      "execution_count": null,
      "metadata": {
        "id": "wjibxtKC04Et",
        "outputId": "59328dd8-73db-44a7-d999-8101f4df293f"
      },
      "outputs": [
        {
          "data": {
            "text/plain": [
              "array([1.5, 5.5, 9.5])"
            ]
          },
          "execution_count": 12,
          "metadata": {},
          "output_type": "execute_result"
        }
      ],
      "source": [
        "np.median(a, axis = 1 )"
      ],
      "id": "wjibxtKC04Et"
    },
    {
      "cell_type": "markdown",
      "metadata": {
        "id": "FNj36ubZ04Et"
      },
      "source": [
        "***"
      ],
      "id": "FNj36ubZ04Et"
    },
    {
      "cell_type": "markdown",
      "metadata": {
        "id": "rNMVbIjX04Et"
      },
      "source": [
        "## Trigonometric Functions\n",
        "\n",
        "In addition to arithmetic expressions using operators, Numpy provides functions for element-wise evaluation of many elementary trigonometric functions and operations.\n",
        "\n",
        "\n",
        "Each of these functions takes a single array (of arbitrary dimension) as input and returns a new array of the same shape, where for each element the function has been applied to the corresponding element in the input array.\n",
        "\n",
        "### `np.sin()`, `np.cos()`\n",
        "\n",
        "This function takes only one argument and is used to compute the sine function for all values in the array:"
      ],
      "id": "rNMVbIjX04Et"
    },
    {
      "cell_type": "code",
      "execution_count": null,
      "metadata": {
        "id": "tFFRlzPx04Eu",
        "outputId": "98ebe557-cb25-4a46-8478-38e18d6b734b"
      },
      "outputs": [
        {
          "data": {
            "text/plain": [
              "array([-1. , -0.8, -0.6, -0.4, -0.2,  0. ,  0.2,  0.4,  0.6,  0.8,  1. ])"
            ]
          },
          "execution_count": 24,
          "metadata": {},
          "output_type": "execute_result"
        }
      ],
      "source": [
        "x = np.linspace(-1, 1, 11)\n",
        "x"
      ],
      "id": "tFFRlzPx04Eu"
    },
    {
      "cell_type": "code",
      "execution_count": null,
      "metadata": {
        "id": "F59zaiuu04Eu"
      },
      "outputs": [],
      "source": [
        "y = np.sin(np.pi * x)"
      ],
      "id": "F59zaiuu04Eu"
    },
    {
      "cell_type": "code",
      "execution_count": null,
      "metadata": {
        "id": "PNYzXCv204Eu",
        "outputId": "fb6e00d8-8d7c-42f6-a9a7-4b7a8e6b53df"
      },
      "outputs": [
        {
          "data": {
            "text/plain": [
              "array([-0.    , -0.5878, -0.9511, -0.9511, -0.5878,  0.    ,  0.5878,\n",
              "        0.9511,  0.9511,  0.5878,  0.    ])"
            ]
          },
          "execution_count": 26,
          "metadata": {},
          "output_type": "execute_result"
        }
      ],
      "source": [
        "np.round(y, decimals=4)"
      ],
      "id": "PNYzXCv204Eu"
    },
    {
      "cell_type": "markdown",
      "metadata": {
        "id": "9yrS7X2d04Eu"
      },
      "source": [
        "Here we also used the constant `np.pi` and the function `np.round()` to round the values of `y` to four decimals. \n",
        "\n",
        "\n",
        "Like the `np.sin` function, many of the elementary trigonometric math functions take one input array and produce one output array. We can also make these functions operate on two input arrays and return one array:\n",
        "\n",
        "#### For example: $\\sin^2x + \\cos^2x = 1$"
      ],
      "id": "9yrS7X2d04Eu"
    },
    {
      "cell_type": "code",
      "execution_count": null,
      "metadata": {
        "id": "aH59vzUf04Eu",
        "outputId": "575daa02-391a-4c34-c357-904457fd8702"
      },
      "outputs": [
        {
          "data": {
            "text/plain": [
              "array([1., 1., 1., 1., 1., 1., 1., 1., 1., 1., 1.])"
            ]
          },
          "execution_count": 27,
          "metadata": {},
          "output_type": "execute_result"
        }
      ],
      "source": [
        "np.add(np.sin(x) ** 2, np.cos(x) ** 2)"
      ],
      "id": "aH59vzUf04Eu"
    },
    {
      "cell_type": "code",
      "execution_count": null,
      "metadata": {
        "id": "ELJux2_q04Ev",
        "outputId": "135a0589-a14e-4f9e-8427-c5100003fd3d"
      },
      "outputs": [
        {
          "data": {
            "text/plain": [
              "array([1., 1., 1., 1., 1., 1., 1., 1., 1., 1., 1.])"
            ]
          },
          "execution_count": 28,
          "metadata": {},
          "output_type": "execute_result"
        }
      ],
      "source": [
        "np.sin(x) ** 2 + np.cos(x) ** 2"
      ],
      "id": "ELJux2_q04Ev"
    },
    {
      "cell_type": "markdown",
      "metadata": {
        "id": "jw5GKwIa04Ev"
      },
      "source": [
        "***"
      ],
      "id": "jw5GKwIa04Ev"
    },
    {
      "cell_type": "markdown",
      "metadata": {
        "id": "g-yruJs204Ev"
      },
      "source": [
        "## Exponential and Logarithmic Functions\n",
        "\n",
        "### `np.exp()`\n",
        "\n",
        "This function returns element-wise exponent raised to power of element's value"
      ],
      "id": "g-yruJs204Ev"
    },
    {
      "cell_type": "code",
      "execution_count": null,
      "metadata": {
        "id": "tiPz2U9B04Ew",
        "outputId": "bdee63ee-7e6e-4349-bd09-00a03f0db907"
      },
      "outputs": [
        {
          "data": {
            "text/plain": [
              "array([0, 1, 2])"
            ]
          },
          "execution_count": 33,
          "metadata": {},
          "output_type": "execute_result"
        }
      ],
      "source": [
        "x = np.arange(0,3) \n",
        "x"
      ],
      "id": "tiPz2U9B04Ew"
    },
    {
      "cell_type": "code",
      "execution_count": null,
      "metadata": {
        "id": "eWkHOUer04Ew",
        "outputId": "69bf3d38-4939-406f-eeac-2c0afc46a7ba"
      },
      "outputs": [
        {
          "data": {
            "text/plain": [
              "array([1.        , 2.71828183, 7.3890561 ])"
            ]
          },
          "execution_count": 34,
          "metadata": {},
          "output_type": "execute_result"
        }
      ],
      "source": [
        "np.exp(x) # returns e**0, e**1, e**2"
      ],
      "id": "eWkHOUer04Ew"
    },
    {
      "cell_type": "markdown",
      "metadata": {
        "id": "P0uksUlc04Ex"
      },
      "source": [
        "### `np.log()`, `np.log2()`, `np.log10()`\n",
        "\n",
        "These functions return Logarithms of base e, 2, and 10, respectively."
      ],
      "id": "P0uksUlc04Ex"
    },
    {
      "cell_type": "code",
      "execution_count": null,
      "metadata": {
        "id": "ZMpOX9M-04Ex",
        "outputId": "a5b7e789-2270-4db7-c8de-9bc02db36ba2"
      },
      "outputs": [
        {
          "data": {
            "text/plain": [
              "array([ 1,  2,  3,  4,  5,  6,  7,  8,  9, 10])"
            ]
          },
          "execution_count": 43,
          "metadata": {},
          "output_type": "execute_result"
        }
      ],
      "source": [
        "x = np.arange(1,11) \n",
        "x"
      ],
      "id": "ZMpOX9M-04Ex"
    },
    {
      "cell_type": "code",
      "execution_count": null,
      "metadata": {
        "id": "9hL62ztE04Ey",
        "outputId": "f669dec6-1f35-461f-8ce6-647ec1d7ab03"
      },
      "outputs": [
        {
          "data": {
            "text/plain": [
              "array([0.        , 0.69314718, 1.09861229, 1.38629436, 1.60943791,\n",
              "       1.79175947, 1.94591015, 2.07944154, 2.19722458, 2.30258509])"
            ]
          },
          "execution_count": 44,
          "metadata": {},
          "output_type": "execute_result"
        }
      ],
      "source": [
        "np.log(x)"
      ],
      "id": "9hL62ztE04Ey"
    },
    {
      "cell_type": "code",
      "execution_count": null,
      "metadata": {
        "id": "adzlbjjs04Ey",
        "outputId": "f51048fc-e356-401c-955a-ca53c353c5d2"
      },
      "outputs": [
        {
          "data": {
            "text/plain": [
              "array([0.        , 0.30103   , 0.47712125, 0.60205999, 0.69897   ,\n",
              "       0.77815125, 0.84509804, 0.90308999, 0.95424251, 1.        ])"
            ]
          },
          "execution_count": 45,
          "metadata": {},
          "output_type": "execute_result"
        }
      ],
      "source": [
        "np.log10(x)"
      ],
      "id": "adzlbjjs04Ey"
    },
    {
      "cell_type": "markdown",
      "metadata": {
        "id": "Fcm-3wF_04Ey"
      },
      "source": [
        "***"
      ],
      "id": "Fcm-3wF_04Ey"
    },
    {
      "cell_type": "markdown",
      "metadata": {
        "id": "pjCzBXan04Ey"
      },
      "source": [
        "## Conditional functions "
      ],
      "id": "pjCzBXan04Ey"
    },
    {
      "cell_type": "markdown",
      "metadata": {
        "id": "2nj3-18104Ey"
      },
      "source": [
        "### `np.where()`\n",
        "\n",
        "This functions returns an ndarray whose elements are chosen from x or y depending on condition.\n",
        "\n",
        "Function signature: \n",
        "`np.where(condition, [x, y])`"
      ],
      "id": "2nj3-18104Ey"
    },
    {
      "cell_type": "code",
      "execution_count": null,
      "metadata": {
        "id": "R4p2DVuC04Ez",
        "outputId": "77c7e7de-c82c-48d6-bda3-42560e656363"
      },
      "outputs": [
        {
          "data": {
            "text/plain": [
              "array([0, 1, 2, 3, 4, 5, 6, 7, 8, 9])"
            ]
          },
          "execution_count": 11,
          "metadata": {},
          "output_type": "execute_result"
        }
      ],
      "source": [
        "arr = np.arange(10)\n",
        "arr"
      ],
      "id": "R4p2DVuC04Ez"
    },
    {
      "cell_type": "code",
      "execution_count": null,
      "metadata": {
        "id": "WsM5n2Bm04Ez",
        "outputId": "eff1c9cc-2559-4627-e3f2-9223532d683b"
      },
      "outputs": [
        {
          "data": {
            "text/plain": [
              "array([ 0,  1,  2,  3,  4,  5, -1, -1, -1, -1])"
            ]
          },
          "execution_count": 14,
          "metadata": {},
          "output_type": "execute_result"
        }
      ],
      "source": [
        "np.where(arr > 5, -1, arr)"
      ],
      "id": "WsM5n2Bm04Ez"
    },
    {
      "cell_type": "markdown",
      "metadata": {
        "id": "P6-QiBSk04Ez"
      },
      "source": [
        "When only condition is provided, it gives the index of non zero values"
      ],
      "id": "P6-QiBSk04Ez"
    },
    {
      "cell_type": "code",
      "execution_count": null,
      "metadata": {
        "id": "glEPd-RD04Ez",
        "outputId": "289256f2-565f-494f-a578-2a55a6a061c6"
      },
      "outputs": [
        {
          "data": {
            "text/plain": [
              "(array([1, 2, 3, 4, 5, 6, 7, 8, 9], dtype=int64),)"
            ]
          },
          "execution_count": 16,
          "metadata": {},
          "output_type": "execute_result"
        }
      ],
      "source": [
        "np.where(arr)"
      ],
      "id": "glEPd-RD04Ez"
    },
    {
      "cell_type": "markdown",
      "metadata": {
        "id": "QBOf8kGr04Ez"
      },
      "source": [
        "***"
      ],
      "id": "QBOf8kGr04Ez"
    },
    {
      "cell_type": "markdown",
      "metadata": {
        "id": "szqi1ey904E0"
      },
      "source": [
        "## Sorting\n",
        "\n",
        "### `np.ndarry.sort()`\n",
        "\n",
        "- The `np.ndarray.sort()` method **performs the sorting in place, modifying the input array**.\n",
        "\n",
        "- It **changes the orginal array**"
      ],
      "id": "szqi1ey904E0"
    },
    {
      "cell_type": "code",
      "execution_count": null,
      "metadata": {
        "id": "R8oJK2vx04E0",
        "outputId": "6b740c19-18a6-4edf-d687-053143f76b27"
      },
      "outputs": [
        {
          "data": {
            "text/plain": [
              "array([ 2, 30, 41,  7, 17, 52])"
            ]
          },
          "execution_count": 13,
          "metadata": {},
          "output_type": "execute_result"
        }
      ],
      "source": [
        "a = np.array([2,30,41,7,17,52])\n",
        "a"
      ],
      "id": "R8oJK2vx04E0"
    },
    {
      "cell_type": "code",
      "execution_count": null,
      "metadata": {
        "id": "5HbmQUZV04E0"
      },
      "outputs": [],
      "source": [
        "np.ndarray.sort(a)"
      ],
      "id": "5HbmQUZV04E0"
    },
    {
      "cell_type": "code",
      "execution_count": null,
      "metadata": {
        "id": "GyE_osLV04E0",
        "outputId": "383d0aa9-70f7-4716-e611-f5e9e387d299"
      },
      "outputs": [
        {
          "data": {
            "text/plain": [
              "array([ 2,  7, 17, 30, 41, 52])"
            ]
          },
          "execution_count": 15,
          "metadata": {},
          "output_type": "execute_result"
        }
      ],
      "source": [
        "a"
      ],
      "id": "GyE_osLV04E0"
    },
    {
      "cell_type": "markdown",
      "metadata": {
        "id": "1t-ZL2FQ04E0"
      },
      "source": [
        "***"
      ],
      "id": "1t-ZL2FQ04E0"
    }
  ],
  "metadata": {
    "kernelspec": {
      "display_name": "Python 3",
      "language": "python",
      "name": "python3"
    },
    "language_info": {
      "codemirror_mode": {
        "name": "ipython",
        "version": 3
      },
      "file_extension": ".py",
      "mimetype": "text/x-python",
      "name": "python",
      "nbconvert_exporter": "python",
      "pygments_lexer": "ipython3",
      "version": "3.6.5"
    },
    "colab": {
      "name": "08-Numpy-02-PostRead.ipynb",
      "provenance": [],
      "collapsed_sections": [
        "5WJj1stt04El",
        "4Xd7bzn_04Eo",
        "4maKm9JO04Eq",
        "8zIZSDZS04Es",
        "9yrS7X2d04Eu",
        "P0uksUlc04Ex",
        "2nj3-18104Ey"
      ],
      "include_colab_link": true
    }
  },
  "nbformat": 4,
  "nbformat_minor": 5
}