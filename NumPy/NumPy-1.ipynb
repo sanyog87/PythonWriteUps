{
 "cells": [
  {
   "cell_type": "code",
   "execution_count": 2,
   "id": "5d0fdcc5",
   "metadata": {},
   "outputs": [],
   "source": [
    "import numpy as np"
   ]
  },
  {
   "cell_type": "code",
   "execution_count": 185,
   "id": "479c1d20",
   "metadata": {},
   "outputs": [
    {
     "data": {
      "text/plain": [
       "array([ 1,  2,  3,  4,  5,  6,  7,  8,  9, 10])"
      ]
     },
     "execution_count": 185,
     "metadata": {},
     "output_type": "execute_result"
    }
   ],
   "source": [
    "m1 = np.array(np.arange(1,11))\n",
    "m1"
   ]
  },
  {
   "cell_type": "code",
   "execution_count": 186,
   "id": "91dfe959",
   "metadata": {},
   "outputs": [
    {
     "data": {
      "text/plain": [
       "(10,)"
      ]
     },
     "execution_count": 186,
     "metadata": {},
     "output_type": "execute_result"
    }
   ],
   "source": [
    "m1.shape"
   ]
  },
  {
   "cell_type": "code",
   "execution_count": 187,
   "id": "74b70e22",
   "metadata": {},
   "outputs": [
    {
     "data": {
      "text/plain": [
       "1"
      ]
     },
     "execution_count": 187,
     "metadata": {},
     "output_type": "execute_result"
    }
   ],
   "source": [
    "m1.ndim"
   ]
  },
  {
   "cell_type": "code",
   "execution_count": 188,
   "id": "692f1d76",
   "metadata": {},
   "outputs": [
    {
     "data": {
      "text/plain": [
       "array([3, 4, 5, 6])"
      ]
     },
     "execution_count": 188,
     "metadata": {},
     "output_type": "execute_result"
    }
   ],
   "source": [
    "m1[[2,3,4,5]]"
   ]
  },
  {
   "cell_type": "code",
   "execution_count": 189,
   "id": "cf5d15c0",
   "metadata": {},
   "outputs": [
    {
     "data": {
      "text/plain": [
       "array([[ 1,  2],\n",
       "       [ 3,  4],\n",
       "       [ 5,  6],\n",
       "       [ 7,  8],\n",
       "       [ 9, 10]])"
      ]
     },
     "execution_count": 189,
     "metadata": {},
     "output_type": "execute_result"
    }
   ],
   "source": [
    "m2=m1.reshape(5,2)\n",
    "m2"
   ]
  },
  {
   "cell_type": "code",
   "execution_count": 199,
   "id": "9e4c0be9",
   "metadata": {},
   "outputs": [
    {
     "name": "stdout",
     "output_type": "stream",
     "text": [
      "49\n"
     ]
    }
   ],
   "source": [
    "a=m2[(m2%2==0) | (m2%3==0)].flatten()\n",
    "j=a.shape\n",
    "print(j[0]**2)"
   ]
  },
  {
   "cell_type": "code",
   "execution_count": 1,
   "id": "89640a72",
   "metadata": {},
   "outputs": [],
   "source": [
    "arr = [[1,21,6],[4,151,3],[7,81,9]]"
   ]
  },
  {
   "cell_type": "code",
   "execution_count": 2,
   "id": "aceb3ca7",
   "metadata": {},
   "outputs": [
    {
     "data": {
      "text/plain": [
       "[[1, 21, 6], [4, 151, 3], [7, 81, 9]]"
      ]
     },
     "execution_count": 2,
     "metadata": {},
     "output_type": "execute_result"
    }
   ],
   "source": [
    "arr"
   ]
  },
  {
   "cell_type": "code",
   "execution_count": 12,
   "id": "14bf4bb9",
   "metadata": {},
   "outputs": [
    {
     "data": {
      "text/plain": [
       "array([[  1,  21,   6],\n",
       "       [  4, 151,   3],\n",
       "       [  7,  81,   9]])"
      ]
     },
     "execution_count": 12,
     "metadata": {},
     "output_type": "execute_result"
    }
   ],
   "source": [
    "m3 = np.array(arr)\n",
    "m3"
   ]
  },
  {
   "cell_type": "code",
   "execution_count": 20,
   "id": "a611ceff",
   "metadata": {},
   "outputs": [
    {
     "data": {
      "text/plain": [
       "array([0, 2, 1], dtype=int64)"
      ]
     },
     "execution_count": 20,
     "metadata": {},
     "output_type": "execute_result"
    }
   ],
   "source": [
    "m3[:,1].argsort()"
   ]
  },
  {
   "cell_type": "code",
   "execution_count": 22,
   "id": "ac91a1bb",
   "metadata": {},
   "outputs": [
    {
     "data": {
      "text/plain": [
       "array([[  1,  21,   6],\n",
       "       [  7,  81,   9],\n",
       "       [  4, 151,   3]])"
      ]
     },
     "execution_count": 22,
     "metadata": {},
     "output_type": "execute_result"
    }
   ],
   "source": [
    "m3[m3[:,1].argsort()]"
   ]
  },
  {
   "cell_type": "code",
   "execution_count": 25,
   "id": "cafc3394",
   "metadata": {},
   "outputs": [
    {
     "data": {
      "text/plain": [
       "array([[  4, 151,   3],\n",
       "       [  1,  21,   6],\n",
       "       [  7,  81,   9]])"
      ]
     },
     "execution_count": 25,
     "metadata": {},
     "output_type": "execute_result"
    }
   ],
   "source": [
    "m3[[1,0,2],:]"
   ]
  },
  {
   "cell_type": "code",
   "execution_count": 168,
   "id": "c05dde93",
   "metadata": {},
   "outputs": [
    {
     "name": "stdout",
     "output_type": "stream",
     "text": [
      "32\n"
     ]
    },
    {
     "data": {
      "text/plain": [
       "array([ 5,  8, 11, 14, 17, 20, 23, 26, 29, 32])"
      ]
     },
     "execution_count": 168,
     "metadata": {},
     "output_type": "execute_result"
    }
   ],
   "source": [
    "print(5 + (10-1)*3)\n",
    "##nth term of AP - a +(n-1)d\n",
    "np.linspace(5,32,10).astype('int32')\n"
   ]
  },
  {
   "cell_type": "code",
   "execution_count": 309,
   "id": "81b898b5",
   "metadata": {},
   "outputs": [
    {
     "data": {
      "text/plain": [
       "array([[ 1],\n",
       "       [ 2],\n",
       "       [ 3],\n",
       "       [ 4],\n",
       "       [ 5],\n",
       "       [ 6],\n",
       "       [ 7],\n",
       "       [ 8],\n",
       "       [ 9],\n",
       "       [10],\n",
       "       [11],\n",
       "       [12],\n",
       "       [13],\n",
       "       [14],\n",
       "       [15],\n",
       "       [16]])"
      ]
     },
     "execution_count": 309,
     "metadata": {},
     "output_type": "execute_result"
    }
   ],
   "source": [
    "m4 = np.array(np.arange(1,17)).reshape(16,1)\n",
    "m4.shape\n",
    "m4"
   ]
  },
  {
   "cell_type": "markdown",
   "id": "0b016447",
   "metadata": {},
   "source": [
    "#### 90 degree rotation of matrix\n",
    "    2,0 1,0 0,0 \n",
    "    2,1 1,1 0,1\n",
    "    2,2 1,2 0,2\n",
    "    \n",
    "    7, 4, 1\n",
    "    8, 5, 2\n",
    "    9, 6, 3"
   ]
  },
  {
   "cell_type": "code",
   "execution_count": 312,
   "id": "152968f8",
   "metadata": {},
   "outputs": [
    {
     "data": {
      "text/plain": [
       "(1, 16)"
      ]
     },
     "execution_count": 312,
     "metadata": {},
     "output_type": "execute_result"
    }
   ],
   "source": [
    "l,m=m4.shape\n",
    "m5 = np.ones((m,l)).astype('int32')\n",
    "m5.shape"
   ]
  },
  {
   "cell_type": "code",
   "execution_count": 313,
   "id": "2e4d230b",
   "metadata": {},
   "outputs": [
    {
     "data": {
      "text/plain": [
       "array([[16, 15, 14, 13, 12, 11, 10,  9,  8,  7,  6,  5,  4,  3,  2,  1]])"
      ]
     },
     "execution_count": 313,
     "metadata": {},
     "output_type": "execute_result"
    }
   ],
   "source": [
    "for i in range(m4.shape[0]):\n",
    "    for j in range(m4.shape[1]):\n",
    "        m5[j,m5.shape[1]-1-i] = m4[i,j]\n",
    "m5"
   ]
  },
  {
   "cell_type": "code",
   "execution_count": 180,
   "id": "cb7f09fb",
   "metadata": {},
   "outputs": [
    {
     "data": {
      "text/plain": [
       "array([[ 1,  8, 21],\n",
       "       [ 8, 25, 48],\n",
       "       [21, 48, 81]])"
      ]
     },
     "execution_count": 180,
     "metadata": {},
     "output_type": "execute_result"
    }
   ],
   "source": [
    "m3*m4"
   ]
  },
  {
   "cell_type": "code",
   "execution_count": 204,
   "id": "41bef7d7",
   "metadata": {},
   "outputs": [
    {
     "ename": "TypeError",
     "evalue": "return arrays must be of ArrayType",
     "output_type": "error",
     "traceback": [
      "\u001b[1;31m---------------------------------------------------------------------------\u001b[0m",
      "\u001b[1;31mTypeError\u001b[0m                                 Traceback (most recent call last)",
      "Input \u001b[1;32mIn [204]\u001b[0m, in \u001b[0;36m<cell line: 1>\u001b[1;34m()\u001b[0m\n\u001b[1;32m----> 1\u001b[0m \u001b[43mnp\u001b[49m\u001b[38;5;241;43m.\u001b[39;49m\u001b[43mceil\u001b[49m\u001b[43m(\u001b[49m\u001b[38;5;241;43m3.4287\u001b[39;49m\u001b[43m,\u001b[49m\u001b[38;5;241;43m2\u001b[39;49m\u001b[43m)\u001b[49m\n",
      "\u001b[1;31mTypeError\u001b[0m: return arrays must be of ArrayType"
     ]
    }
   ],
   "source": [
    "np.ceil(3.4287,2)"
   ]
  },
  {
   "cell_type": "code",
   "execution_count": 205,
   "id": "d3912ec5",
   "metadata": {},
   "outputs": [
    {
     "data": {
      "text/plain": [
       "3.43"
      ]
     },
     "execution_count": 205,
     "metadata": {},
     "output_type": "execute_result"
    }
   ],
   "source": [
    "round(3.428,2)"
   ]
  },
  {
   "cell_type": "code",
   "execution_count": 249,
   "id": "ec13ee9c",
   "metadata": {},
   "outputs": [
    {
     "data": {
      "text/plain": [
       "7.38905609893065"
      ]
     },
     "execution_count": 249,
     "metadata": {},
     "output_type": "execute_result"
    }
   ],
   "source": [
    "np.exp(2)"
   ]
  },
  {
   "cell_type": "code",
   "execution_count": 250,
   "id": "05fc615a",
   "metadata": {},
   "outputs": [],
   "source": [
    "arr = np.array([-2, -1, 0, 1, 2])\n",
    "## [0.12 0.27 0.5 0.73 0.88] sigmod 1+e^(-arr[])"
   ]
  },
  {
   "cell_type": "code",
   "execution_count": 260,
   "id": "cf86743a",
   "metadata": {},
   "outputs": [
    {
     "data": {
      "text/plain": [
       "array([0.12, 0.27, 0.5 , 0.73, 0.88])"
      ]
     },
     "execution_count": 260,
     "metadata": {},
     "output_type": "execute_result"
    }
   ],
   "source": [
    "ans = 1/(1+np.exp(-arr))\n",
    "np.around(ans,2)"
   ]
  },
  {
   "cell_type": "code",
   "execution_count": 262,
   "id": "917d78ca",
   "metadata": {},
   "outputs": [
    {
     "data": {
      "text/plain": [
       "array([[ 0,  1,  2,  3],\n",
       "       [ 4,  5,  6,  7],\n",
       "       [ 8,  9, 10, 11]])"
      ]
     },
     "execution_count": 262,
     "metadata": {},
     "output_type": "execute_result"
    }
   ],
   "source": [
    "X = np.arange(12).reshape(3,4)\n",
    "X"
   ]
  },
  {
   "cell_type": "code",
   "execution_count": 266,
   "id": "7c1f36dc",
   "metadata": {},
   "outputs": [
    {
     "data": {
      "text/plain": [
       "array([ 3,  7, 11])"
      ]
     },
     "execution_count": 266,
     "metadata": {},
     "output_type": "execute_result"
    }
   ],
   "source": [
    "X.max(axis=1)"
   ]
  },
  {
   "cell_type": "code",
   "execution_count": 267,
   "id": "0d22298c",
   "metadata": {},
   "outputs": [
    {
     "data": {
      "text/plain": [
       "66"
      ]
     },
     "execution_count": 267,
     "metadata": {},
     "output_type": "execute_result"
    }
   ],
   "source": [
    "X.sum()"
   ]
  },
  {
   "cell_type": "code",
   "execution_count": 268,
   "id": "f49e5090",
   "metadata": {},
   "outputs": [
    {
     "data": {
      "text/plain": [
       "array([[ 0,  4,  8],\n",
       "       [ 1,  5,  9],\n",
       "       [ 2,  6, 10],\n",
       "       [ 3,  7, 11]])"
      ]
     },
     "execution_count": 268,
     "metadata": {},
     "output_type": "execute_result"
    }
   ],
   "source": [
    "X.T"
   ]
  },
  {
   "cell_type": "code",
   "execution_count": 271,
   "id": "889c7a4f",
   "metadata": {},
   "outputs": [
    {
     "data": {
      "text/plain": [
       "[0, 1, 2, 3]"
      ]
     },
     "execution_count": 271,
     "metadata": {},
     "output_type": "execute_result"
    }
   ],
   "source": [
    "[i.min() for i in X.T]"
   ]
  },
  {
   "cell_type": "code",
   "execution_count": 4,
   "id": "fadfb949",
   "metadata": {},
   "outputs": [
    {
     "data": {
      "text/plain": [
       "array([[0],\n",
       "       [1],\n",
       "       [2]])"
      ]
     },
     "execution_count": 4,
     "metadata": {},
     "output_type": "execute_result"
    }
   ],
   "source": [
    "row = np.array([0,1,2])\n",
    "row[:,np.newaxis]"
   ]
  },
  {
   "cell_type": "code",
   "execution_count": 14,
   "id": "0f6e2291",
   "metadata": {},
   "outputs": [
    {
     "data": {
      "text/plain": [
       "array([[[1, 2, 3]],\n",
       "\n",
       "       [[4, 5, 6]]])"
      ]
     },
     "execution_count": 14,
     "metadata": {},
     "output_type": "execute_result"
    }
   ],
   "source": [
    "arr = np.array([[1,2,3],[4,5,6]])\n",
    "arr.shape\n",
    "arr[:,np.newaxis]"
   ]
  },
  {
   "cell_type": "code",
   "execution_count": 15,
   "id": "b1558d31",
   "metadata": {},
   "outputs": [
    {
     "name": "stdout",
     "output_type": "stream",
     "text": [
      "[[ 0  2]\n",
      " [ 4  6]\n",
      " [ 8 10]]\n"
     ]
    }
   ],
   "source": [
    "import numpy as np\n",
    "X = np.arange(12).reshape((3, 4))\n",
    "row = np.array([0, 1, 2])\n",
    "mask = np.array([1, 0, 1, 0], dtype=bool)\n",
    "print(X[row[:, np.newaxis], mask])"
   ]
  },
  {
   "cell_type": "code",
   "execution_count": 20,
   "id": "c120128f",
   "metadata": {},
   "outputs": [
    {
     "name": "stdout",
     "output_type": "stream",
     "text": [
      "[0.  0.5 1.  1.5]\n"
     ]
    },
    {
     "data": {
      "text/plain": [
       "array([0., 1., 2., 3.])"
      ]
     },
     "execution_count": 20,
     "metadata": {},
     "output_type": "execute_result"
    }
   ],
   "source": [
    "print(np.arange(0,2,0.5))\n",
    "arr = 2*np.arange(0,2,0.5)\n",
    "arr\n"
   ]
  },
  {
   "cell_type": "code",
   "execution_count": 50,
   "id": "c7a16de7",
   "metadata": {},
   "outputs": [
    {
     "data": {
      "text/plain": [
       "array([[ 0,  1,  2,  3,  4,  5,  6,  7,  8,  9, 10, 11, 12, 13, 14, 15]])"
      ]
     },
     "execution_count": 50,
     "metadata": {},
     "output_type": "execute_result"
    }
   ],
   "source": [
    "m1 = np.arange(16).reshape(1,16)\n",
    "m1"
   ]
  },
  {
   "cell_type": "code",
   "execution_count": 57,
   "id": "38fc502d",
   "metadata": {},
   "outputs": [
    {
     "data": {
      "text/plain": [
       "array([[[ 0],\n",
       "        [ 1],\n",
       "        [ 2],\n",
       "        [ 3],\n",
       "        [ 4],\n",
       "        [ 5],\n",
       "        [ 6],\n",
       "        [ 7],\n",
       "        [ 8],\n",
       "        [ 9],\n",
       "        [10],\n",
       "        [11],\n",
       "        [12],\n",
       "        [13],\n",
       "        [14],\n",
       "        [15]]])"
      ]
     },
     "execution_count": 57,
     "metadata": {},
     "output_type": "execute_result"
    }
   ],
   "source": [
    "np.expand_dims(m1, axis=2)"
   ]
  },
  {
   "cell_type": "code",
   "execution_count": 101,
   "id": "4b1daacb",
   "metadata": {},
   "outputs": [
    {
     "name": "stdout",
     "output_type": "stream",
     "text": [
      "(4,)\n",
      "4 4\n",
      "4 5\n",
      "[[0 0 0 0 0]\n",
      " [0 0 0 0 0]\n",
      " [0 0 0 0 0]\n",
      " [0 0 0 0 0]]\n"
     ]
    },
    {
     "data": {
      "text/plain": [
       "array([[0, 1, 0, 0, 0],\n",
       "       [0, 0, 1, 0, 0],\n",
       "       [0, 0, 0, 1, 0],\n",
       "       [0, 0, 0, 0, 1]])"
      ]
     },
     "execution_count": 101,
     "metadata": {},
     "output_type": "execute_result"
    }
   ],
   "source": [
    "arr = np.array([1,2,3,4])\n",
    "print(arr.shape)\n",
    "print(np.max(arr),arr.shape[0])\n",
    "l,m = arr.shape[0],np.max(arr)+1\n",
    "print(l,m)\n",
    "result = np.zeros((l,m),dtype='int')\n",
    "print(result)\n",
    "result[np.arange(l),arr] = 1\n",
    "result"
   ]
  },
  {
   "cell_type": "code",
   "execution_count": 145,
   "id": "c9a41871",
   "metadata": {},
   "outputs": [
    {
     "name": "stdout",
     "output_type": "stream",
     "text": [
      "[2]\n"
     ]
    }
   ],
   "source": [
    "#arr = np.array([-1,2,3,-4,5,6])\n",
    "arr = np.array([-2,-3,3,4,5])\n",
    "a=np.argwhere(arr>1)[0]\n",
    "print(a)"
   ]
  },
  {
   "cell_type": "code",
   "execution_count": 138,
   "id": "04b80b78",
   "metadata": {},
   "outputs": [
    {
     "name": "stdout",
     "output_type": "stream",
     "text": [
      "[4]\n"
     ]
    }
   ],
   "source": [
    "print([np.where(arr>3)[0][0]])"
   ]
  },
  {
   "cell_type": "code",
   "execution_count": 194,
   "id": "db061353",
   "metadata": {},
   "outputs": [],
   "source": [
    "2**0*1 + 2**1*1\n",
    "arr=2**np.arange(12)\n",
    "arr\n",
    "bit = []"
   ]
  },
  {
   "cell_type": "markdown",
   "id": "c48af0ed",
   "metadata": {},
   "source": [
    "## Recursive Method to Convert Decimal to Binary"
   ]
  },
  {
   "cell_type": "code",
   "execution_count": 195,
   "id": "cfbfed7d",
   "metadata": {},
   "outputs": [],
   "source": [
    "def deci_to_bin(deci):\n",
    "    if deci == 0:\n",
    "        return 0\n",
    "          \n",
    "    return 10*(deci_to_bin(deci//2))+(deci%2)"
   ]
  },
  {
   "cell_type": "code",
   "execution_count": 196,
   "id": "56effc66",
   "metadata": {},
   "outputs": [
    {
     "data": {
      "text/plain": [
       "1010"
      ]
     },
     "execution_count": 196,
     "metadata": {},
     "output_type": "execute_result"
    }
   ],
   "source": [
    "deci_to_bin(10)"
   ]
  },
  {
   "cell_type": "code",
   "execution_count": 198,
   "id": "85ba56ad",
   "metadata": {},
   "outputs": [],
   "source": [
    "vectorize_deci_to_bin = np.vectorize(deci_to_bin)"
   ]
  },
  {
   "cell_type": "code",
   "execution_count": 199,
   "id": "836b43c8",
   "metadata": {},
   "outputs": [
    {
     "data": {
      "text/plain": [
       "array([ 1, 10, 11])"
      ]
     },
     "execution_count": 199,
     "metadata": {},
     "output_type": "execute_result"
    }
   ],
   "source": [
    "vectorize_deci_to_bin(np.array([1,2,3]))"
   ]
  },
  {
   "cell_type": "code",
   "execution_count": 5,
   "id": "b7c29efe",
   "metadata": {},
   "outputs": [
    {
     "data": {
      "text/plain": [
       "(array([[0. , 0.7],\n",
       "        [1.3, 2. ]]),\n",
       " array([[5. , 5.7],\n",
       "        [6.3, 7. ]]),\n",
       " array([[1. , 1.7],\n",
       "        [2.3, 3. ]]),\n",
       " array([[6., 7.],\n",
       "        [8., 9.]]))"
      ]
     },
     "execution_count": 5,
     "metadata": {},
     "output_type": "execute_result"
    }
   ],
   "source": [
    "top_left, top_right, bottom_left, bottom_right = (0,2), (5,7), (1,3), (6,9)\n",
    "top_left_m = np.around(np.linspace(top_left[0],top_left[1],4),1).reshape(2,2)\n",
    "top_right_m = np.around(np.linspace(top_right[0],top_right[1],4),1).reshape(2,2)\n",
    "bottom_left_m = np.around(np.linspace(bottom_left[0],bottom_left[1],4),1).reshape(2,2)\n",
    "bottom_right_m = np.around(np.linspace(bottom_right[0],bottom_right[1],4),1).reshape(2,2)\n",
    "top_left_m, top_right_m, bottom_left_m, bottom_right_m"
   ]
  },
  {
   "cell_type": "code",
   "execution_count": 12,
   "id": "6044e621",
   "metadata": {},
   "outputs": [
    {
     "data": {
      "text/plain": [
       "array([[0. , 0.7, 5. , 5.7],\n",
       "       [1.3, 2. , 6.3, 7. ],\n",
       "       [1. , 1.7, 6. , 7. ],\n",
       "       [2.3, 3. , 8. , 9. ]])"
      ]
     },
     "execution_count": 12,
     "metadata": {},
     "output_type": "execute_result"
    }
   ],
   "source": [
    "ans = np.concatenate((np.concatenate((top_left_m,top_right_m), axis=1),np.concatenate((bottom_left_m,bottom_right_m), axis=1)),axis=0)\n",
    "ans"
   ]
  },
  {
   "cell_type": "code",
   "execution_count": 14,
   "id": "ea9d233e",
   "metadata": {},
   "outputs": [
    {
     "data": {
      "text/plain": [
       "array([[0, 6, 7, 9, 1],\n",
       "       [2, 4, 6, 2, 7]])"
      ]
     },
     "execution_count": 14,
     "metadata": {},
     "output_type": "execute_result"
    }
   ],
   "source": [
    "a = np.array([ [0, 6, 7, 9, 1], [2, 4, 6, 2, 7] ])\n",
    "a.s"
   ]
  },
  {
   "cell_type": "code",
   "execution_count": 18,
   "id": "551e68fd",
   "metadata": {},
   "outputs": [
    {
     "data": {
      "text/plain": [
       "array([[0, 6, 7, 9, 1],\n",
       "       [0, 6, 7, 9, 1],\n",
       "       [0, 6, 7, 9, 1],\n",
       "       [2, 4, 6, 2, 7],\n",
       "       [2, 4, 6, 2, 7],\n",
       "       [2, 4, 6, 2, 7]])"
      ]
     },
     "execution_count": 18,
     "metadata": {},
     "output_type": "execute_result"
    }
   ],
   "source": [
    " np.tile(a,3).reshape(-1,5)"
   ]
  },
  {
   "cell_type": "code",
   "execution_count": 22,
   "id": "96730797",
   "metadata": {},
   "outputs": [
    {
     "data": {
      "text/plain": [
       "array([[[0., 1., 2.],\n",
       "        [3., 4., 5.],\n",
       "        [6., 7., 8.]],\n",
       "\n",
       "       [[0., 1., 2.],\n",
       "        [3., 4., 5.],\n",
       "        [6., 7., 8.]],\n",
       "\n",
       "       [[0., 1., 2.],\n",
       "        [3., 4., 5.],\n",
       "        [6., 7., 8.]]])"
      ]
     },
     "execution_count": 22,
     "metadata": {},
     "output_type": "execute_result"
    }
   ],
   "source": [
    "a = np.zeros(27).reshape(3, 3, 3)\n",
    "b = np.arange(9).reshape(3, 3) \n",
    "a+b"
   ]
  },
  {
   "cell_type": "code",
   "execution_count": 23,
   "id": "39448e47",
   "metadata": {},
   "outputs": [
    {
     "data": {
      "text/plain": [
       "array([[[0., 1., 2.],\n",
       "        [3., 4., 5.],\n",
       "        [6., 7., 8.]],\n",
       "\n",
       "       [[0., 1., 2.],\n",
       "        [3., 4., 5.],\n",
       "        [6., 7., 8.]],\n",
       "\n",
       "       [[0., 1., 2.],\n",
       "        [3., 4., 5.],\n",
       "        [6., 7., 8.]]])"
      ]
     },
     "execution_count": 23,
     "metadata": {},
     "output_type": "execute_result"
    }
   ],
   "source": [
    "a + b[np.newaxis, :, :]"
   ]
  },
  {
   "cell_type": "code",
   "execution_count": 46,
   "id": "1370964f",
   "metadata": {},
   "outputs": [
    {
     "name": "stdout",
     "output_type": "stream",
     "text": [
      "[[0 0 0 0]\n",
      " [0 1 2 0]\n",
      " [0 3 4 0]\n",
      " [0 5 6 0]\n",
      " [0 0 0 0]] [[0. 0. 0. 0.]\n",
      " [0. 1. 2. 0.]\n",
      " [0. 3. 4. 0.]\n",
      " [0. 5. 6. 0.]\n",
      " [0. 0. 0. 0.]]\n"
     ]
    }
   ],
   "source": [
    "mat=np.array([[1,2],[3,4],[5,6]])\n",
    "l,m = mat.shape\n",
    "ans = np.hstack((np.zeros([l+2,1],),np.vstack((np.zeros([1,m]),mat,np.zeros([1,m]))),np.zeros([l+2,1])))\n",
    "ans2 = np.hstack((np.zeros([l+2,1],dtype='int'),np.vstack((np.zeros([1,m],dtype='int'),mat,np.zeros([1,m],dtype='int'))),np.zeros([l+2,1],dtype='int')))\n",
    "print(ans.astype(\"int\"),ans)"
   ]
  },
  {
   "cell_type": "code",
   "execution_count": 42,
   "id": "e4d645cb",
   "metadata": {},
   "outputs": [
    {
     "data": {
      "text/plain": [
       "array([[0, 0]])"
      ]
     },
     "execution_count": 42,
     "metadata": {},
     "output_type": "execute_result"
    }
   ],
   "source": [
    "np.zeros([1,2],dtype='int')"
   ]
  },
  {
   "cell_type": "code",
   "execution_count": null,
   "id": "e4f8aaa4",
   "metadata": {},
   "outputs": [],
   "source": []
  }
 ],
 "metadata": {
  "kernelspec": {
   "display_name": "Python 3 (ipykernel)",
   "language": "python",
   "name": "python3"
  },
  "language_info": {
   "codemirror_mode": {
    "name": "ipython",
    "version": 3
   },
   "file_extension": ".py",
   "mimetype": "text/x-python",
   "name": "python",
   "nbconvert_exporter": "python",
   "pygments_lexer": "ipython3",
   "version": "3.9.12"
  }
 },
 "nbformat": 4,
 "nbformat_minor": 5
}
