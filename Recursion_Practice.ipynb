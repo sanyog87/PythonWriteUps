{
 "cells": [
  {
   "cell_type": "markdown",
   "id": "fe90d8c7",
   "metadata": {},
   "source": [
    "## SUM OF SERIES"
   ]
  },
  {
   "cell_type": "code",
   "execution_count": 2,
   "id": "7e774d9b",
   "metadata": {},
   "outputs": [],
   "source": [
    "## (n-2) + (n-4) + (n-6) ..... (n-x)<=0\n",
    "def sum_series(n):\n",
    "    if n<=0:\n",
    "        return 0\n",
    "    elif n == 1:\n",
    "        return 1\n",
    "    elif n == 2:\n",
    "        return 2  \n",
    "   \n",
    "    series_sum = n + sum_series(n-2)\n",
    "    print(series_sum)\n",
    "    \n",
    "    return series_sum"
   ]
  },
  {
   "cell_type": "code",
   "execution_count": 3,
   "id": "9cfc597d",
   "metadata": {},
   "outputs": [
    {
     "name": "stdout",
     "output_type": "stream",
     "text": [
      "6\n",
      "12\n",
      "20\n",
      "30\n"
     ]
    },
    {
     "data": {
      "text/plain": [
       "30"
      ]
     },
     "execution_count": 3,
     "metadata": {},
     "output_type": "execute_result"
    }
   ],
   "source": [
    "sum_series(10)"
   ]
  },
  {
   "cell_type": "markdown",
   "id": "8052eb14",
   "metadata": {},
   "source": [
    "## COUNT OF HI"
   ]
  },
  {
   "cell_type": "code",
   "execution_count": 5,
   "id": "494e3b6c",
   "metadata": {},
   "outputs": [
    {
     "data": {
      "text/plain": [
       "'hi'"
      ]
     },
     "execution_count": 5,
     "metadata": {},
     "output_type": "execute_result"
    }
   ],
   "source": [
    "s = 'hishisha'\n",
    "s[:len(s)//2]\n",
    "s[0]+s[1]"
   ]
  },
  {
   "cell_type": "code",
   "execution_count": 24,
   "id": "19c799a6",
   "metadata": {},
   "outputs": [],
   "source": [
    "def break_string(s,count=0):   \n",
    "    \n",
    "    hi_count = 0\n",
    "    \n",
    "    if(len(s)==1):\n",
    "        print(s, hi_count, count)\n",
    "        return hi_count\n",
    "    \n",
    "    if(len(s)>=2 and s[0]+s[1]=='hi'):\n",
    "        hi_count=1\n",
    "    \n",
    "    \n",
    "    \n",
    "    print(s, hi_count, count)\n",
    "    count = count+hi_count + break_string(s[1::],count)\n",
    "    print(\"COUNT - \",count)\n",
    "    return count"
   ]
  },
  {
   "cell_type": "code",
   "execution_count": 25,
   "id": "1c7184d5",
   "metadata": {},
   "outputs": [
    {
     "name": "stdout",
     "output_type": "stream",
     "text": [
      "ihishisha 0 0\n",
      "hishisha 1 0\n",
      "ishisha 0 0\n",
      "shisha 0 0\n",
      "hisha 1 0\n",
      "isha 0 0\n",
      "sha 0 0\n",
      "ha 0 0\n",
      "a 0 0\n",
      "COUNT -  0\n",
      "COUNT -  0\n",
      "COUNT -  0\n",
      "COUNT -  1\n",
      "COUNT -  1\n",
      "COUNT -  1\n",
      "COUNT -  2\n",
      "COUNT -  2\n",
      "2\n"
     ]
    }
   ],
   "source": [
    "print(break_string('ihishisha',0))"
   ]
  },
  {
   "cell_type": "markdown",
   "id": "8cc6e8b6",
   "metadata": {},
   "source": [
    "## REVERSE THE NUMBER"
   ]
  },
  {
   "cell_type": "code",
   "execution_count": 27,
   "id": "1c7bb395",
   "metadata": {},
   "outputs": [
    {
     "data": {
      "text/plain": [
       "4"
      ]
     },
     "execution_count": 27,
     "metadata": {},
     "output_type": "execute_result"
    }
   ],
   "source": [
    "1234%10"
   ]
  },
  {
   "cell_type": "code",
   "execution_count": 28,
   "id": "d8933268",
   "metadata": {},
   "outputs": [
    {
     "data": {
      "text/plain": [
       "123"
      ]
     },
     "execution_count": 28,
     "metadata": {},
     "output_type": "execute_result"
    }
   ],
   "source": [
    "1234//10"
   ]
  },
  {
   "cell_type": "code",
   "execution_count": 36,
   "id": "040dc6c8",
   "metadata": {},
   "outputs": [],
   "source": [
    "def rev(n, temp=''):\n",
    "    \n",
    "    \n",
    "    # YOUR CODE GOES HERE\n",
    "    _temp = str(n%10)\n",
    "    if(len(str(n))==1):\n",
    "        print(n,' _temp ',_temp)\n",
    "        return _temp\n",
    "    print(n,' _temp ',_temp)\n",
    "    temp = temp+ _temp + rev(n//10,temp)\n",
    "    print('temp ',temp)\n",
    "    return temp\n",
    "\n"
   ]
  },
  {
   "cell_type": "code",
   "execution_count": 37,
   "id": "64f73b9d",
   "metadata": {},
   "outputs": [
    {
     "name": "stdout",
     "output_type": "stream",
     "text": [
      "123  _temp  3\n",
      "12  _temp  2\n",
      "1  _temp  1\n",
      "temp  21\n",
      "temp  321\n"
     ]
    },
    {
     "data": {
      "text/plain": [
       "'321'"
      ]
     },
     "execution_count": 37,
     "metadata": {},
     "output_type": "execute_result"
    }
   ],
   "source": [
    "rev(123,'')"
   ]
  },
  {
   "cell_type": "markdown",
   "id": "47dcd76b",
   "metadata": {},
   "source": [
    "## HARMONIC SUM"
   ]
  },
  {
   "cell_type": "code",
   "execution_count": 50,
   "id": "6a3148a9",
   "metadata": {},
   "outputs": [],
   "source": [
    "def harmonic_sum(n):\n",
    "    \n",
    "    # YOUR CODE GOES HERE\n",
    "    h_sum = 1/n\n",
    "    if(n==1):\n",
    "        print(h_sum)\n",
    "        return 1\n",
    "    print(h_sum)\n",
    "    return round(harmonic_sum(n-1)+h_sum,3)\n"
   ]
  },
  {
   "cell_type": "code",
   "execution_count": 43,
   "id": "9bb0356f",
   "metadata": {},
   "outputs": [
    {
     "data": {
      "text/plain": [
       "1"
      ]
     },
     "execution_count": 43,
     "metadata": {},
     "output_type": "execute_result"
    }
   ],
   "source": [
    "round(1.345)"
   ]
  },
  {
   "cell_type": "code",
   "execution_count": 53,
   "id": "e6b00a3b",
   "metadata": {},
   "outputs": [
    {
     "name": "stdout",
     "output_type": "stream",
     "text": [
      "0.1\n",
      "0.1111111111111111\n",
      "0.125\n",
      "0.14285714285714285\n",
      "0.16666666666666666\n",
      "0.2\n",
      "0.25\n",
      "0.3333333333333333\n",
      "0.5\n",
      "1.0\n"
     ]
    },
    {
     "data": {
      "text/plain": [
       "2.929"
      ]
     },
     "execution_count": 53,
     "metadata": {},
     "output_type": "execute_result"
    }
   ],
   "source": [
    "harmonic_sum(10)"
   ]
  },
  {
   "cell_type": "code",
   "execution_count": null,
   "id": "f8f528bb",
   "metadata": {},
   "outputs": [],
   "source": []
  }
 ],
 "metadata": {
  "kernelspec": {
   "display_name": "Python 3 (ipykernel)",
   "language": "python",
   "name": "python3"
  },
  "language_info": {
   "codemirror_mode": {
    "name": "ipython",
    "version": 3
   },
   "file_extension": ".py",
   "mimetype": "text/x-python",
   "name": "python",
   "nbconvert_exporter": "python",
   "pygments_lexer": "ipython3",
   "version": "3.9.12"
  }
 },
 "nbformat": 4,
 "nbformat_minor": 5
}
