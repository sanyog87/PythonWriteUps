{
 "cells": [
  {
   "cell_type": "markdown",
   "id": "479b9566",
   "metadata": {},
   "source": [
    "## SELECTION SORT"
   ]
  },
  {
   "cell_type": "code",
   "execution_count": 75,
   "id": "66b41afe",
   "metadata": {},
   "outputs": [],
   "source": [
    "#arr = [46, 86, 55, 13, 19, 40, 80, 78, 24, 8, 9, 91, 23]\n",
    "#arr = [1,2,3,4,5,6,7,8,9]\n",
    "step_count = 0\n",
    "for i in range(len(arr)-1):\n",
    "    smaller_number = arr[i]\n",
    "    for j in range(i, len(arr)):\n",
    "        if(smaller_number > arr[j]):\n",
    "            smaller_number = arr[j]         ## Selecting the Smaller Number\n",
    "            arr[i],arr[j] = arr[j],arr[i]   ## Swaping it with i-th element\n",
    "        step_count+=1\n",
    "        #print(\"Pass \",i,\" - \",arr,\" - Step - \",step_count)\n",
    "#print(\"Selection Sort Array - \", arr)"
   ]
  },
  {
   "cell_type": "markdown",
   "id": "368e4f04",
   "metadata": {},
   "source": [
    "## BUBBLE SORT"
   ]
  },
  {
   "cell_type": "code",
   "execution_count": 76,
   "id": "ec6f0c54",
   "metadata": {},
   "outputs": [],
   "source": [
    "arr = [46, 86, 55, 13, 19, 40, 80, 78, 24, 8, 9, 91, 23]\n",
    "#arr = [1,2,3,4,5,6,7,8,9]\n",
    "step_count = 0\n",
    "for i in range (0, len(arr)):\n",
    "     for j in range(0, len(arr)-1):        \n",
    "        if(arr[j] > arr[j+1]):                         ## Comparing with the adjacent element\n",
    "            arr[j+1] , arr[j] = arr[j] , arr[j+1]      ## Swaping it with adjacent element if smaller\n",
    "        step_count+=1 \n",
    "        #print(\"Pass \",i,\" - \",arr,\" - Step - \",step_count)\n",
    "#print(\"Bubble Sort Array - \", arr)"
   ]
  },
  {
   "cell_type": "markdown",
   "id": "ee885345",
   "metadata": {},
   "source": [
    "## BUBBLE SORT WITH FLAG"
   ]
  },
  {
   "cell_type": "code",
   "execution_count": 77,
   "id": "69292d8b",
   "metadata": {},
   "outputs": [],
   "source": [
    "#arr = [46, 86, 55, 13, 19, 40, 80, 78, 24, 8, 9, 91, 23]\n",
    "arr = [1,2,3,4,5,6,7,8,9]\n",
    "step_count = 0\n",
    "for i in range (0, len(arr)):\n",
    "    swap_flag = True\n",
    "    for j in range(0, len(arr)-1):        \n",
    "        if(arr[j] > arr[j+1]):                         ## Comparing with the adjacent element\n",
    "            arr[j+1] , arr[j] = arr[j] , arr[j+1]      ## Swaping it with adjacent element if smaller\n",
    "            swap_flag = False\n",
    "        step_count+=1 \n",
    "        #print(\"Pass \",i,\" - \",arr,\" - Step - \",step_count)\n",
    "    if swap_flag:\n",
    "        break                                          ## Breaking if swap_flag is true and no swaps happened, that means array is sorted\n",
    "    \n",
    "#print(\"Bubble Sort Array - \", arr)"
   ]
  },
  {
   "cell_type": "markdown",
   "id": "45a942b0",
   "metadata": {},
   "source": [
    "## INSERTION SORT"
   ]
  },
  {
   "cell_type": "code",
   "execution_count": 78,
   "id": "6903f682",
   "metadata": {},
   "outputs": [
    {
     "name": "stdout",
     "output_type": "stream",
     "text": [
      "[8, 9, 13, 19, 23, 24, 40, 46, 55, 78, 80, 86, 91]\n",
      "40\n"
     ]
    }
   ],
   "source": [
    "arr = [46, 86, 55, 13, 19, 40, 80, 78, 24, 8, 9, 91, 23]\n",
    "#arr = [1,2,3,4,5,6,7,8,9]\n",
    "step_count = 0\n",
    "\n",
    "for i in range (1,len(arr)):    \n",
    "    key = arr[i]\n",
    "    j = i-1\n",
    "    while(j>0 and key < arr[j]):\n",
    "        arr[j+1] = arr[j]\n",
    "        j-=1\n",
    "    arr[j+1] = key\n",
    "    \n",
    "print(arr)\n"
   ]
  },
  {
   "cell_type": "markdown",
   "id": "518bafdd",
   "metadata": {},
   "source": [
    "## MERGING TWO ARRAYS"
   ]
  },
  {
   "cell_type": "code",
   "execution_count": 31,
   "id": "63d6115f",
   "metadata": {},
   "outputs": [
    {
     "name": "stdout",
     "output_type": "stream",
     "text": [
      "<<<<<<<<<<<<<<<<< FIRST SOLUTION >>>>>>>>>>>>>>>>>\n",
      "ARR :  8    -    [1, 3, 5, 6, 6, 6, 6, 7]\n",
      "ARR :  9    -    [1, 3, 3, 5, 6, 6, 6, 6, 7]\n",
      "ARR :  10    -    [1, 3, 3, 5, 6, 6, 6, 6, 6, 7]\n",
      "ARR :  11    -    [1, 3, 3, 5, 6, 6, 6, 6, 6, 7, 9]\n",
      "[1, 3, 3, 5, 6, 6, 6, 6, 6, 7, 9, 18]\n",
      "\n",
      "\n",
      "<<<<<<<<<<<<<<<<< SECOND SOLUTION >>>>>>>>>>>>>>>>>\n",
      "ANS :  8    -    [1, 3, 5, 6, 6, 6, 6, 7]\n",
      "ANS :  8    -    [1, 3, 5, 6, 6, 6, 6, 7]\n",
      "ANS :  8    -    [1, 3, 5, 6, 6, 6, 6, 7]\n",
      "ANS :  8    -    [1, 3, 5, 6, 6, 6, 6, 7]\n",
      "ANS :  8    -    [1, 3, 5, 6, 6, 6, 6, 7]\n",
      "ANS :  8    -    [1, 3, 5, 6, 6, 6, 6, 7]\n",
      "ANS :  8    -    [1, 3, 5, 6, 6, 6, 6, 7]\n",
      "ANS :  9    -    [1, 3, 3, 5, 6, 6, 6, 6, 7]\n",
      "ANS :  9    -    [1, 3, 3, 5, 6, 6, 6, 6, 7]\n",
      "ANS :  10    -    [1, 3, 3, 5, 6, 6, 6, 6, 6, 7]\n",
      "ANS :  11    -    [1, 3, 3, 5, 6, 6, 6, 6, 6, 7, 9]\n",
      "[1, 3, 3, 5, 6, 6, 6, 6, 6, 7, 9, 18]\n"
     ]
    }
   ],
   "source": [
    "n = 4\n",
    "arr1 = [1,3,5,6,6,6,6,7] ##this should be sorted atleast for expected result\n",
    "m = 5\n",
    "arr2 = [3,6,9,18] #[1000,2000,60,80,9,9,9,3,0,5,6,89,90,7,5]\n",
    "arr3 = arr1\n",
    "\n",
    "## Solution 1 of merging with while loop\n",
    "print(\"<<<<<<<<<<<<<<<<< FIRST SOLUTION >>>>>>>>>>>>>>>>>\")\n",
    "for i in range(len(arr2)):\n",
    "    key = arr2[i]\n",
    "    j = len(arr3)\n",
    "    \n",
    "    print(\"ARR : \",len(arr3),\"   -   \",arr3)\n",
    "    while(j>0 and key<arr3[j-1]):\n",
    "        j-=1\n",
    "    \n",
    "    arr3.insert(j,key)\n",
    "\n",
    "print(arr3,end=\"\\n\\n\\n\")\n",
    "print(\"<<<<<<<<<<<<<<<<< SECOND SOLUTION >>>>>>>>>>>>>>>>>\")\n",
    "## Solution No 2 of merging with for loop\n",
    "n = 4\n",
    "ar1 = [1,3,5,6,6,6,6,7] ##this should be sorted atleast for expected result\n",
    "m = 5\n",
    "ar2 = [3,6,9,18] #[1000,2000,60,80,9,9,9,3,0,5,6,89,90,7,5]\n",
    "ans=ar1\n",
    "for i in range(len(arr2)):\n",
    "    key = ar2[i]\n",
    "    insert_index = len(ans)    \n",
    "    inner_loop_length = len(ans)\n",
    "    \n",
    "    for j in range(inner_loop_length-1,-1,-1):\n",
    "        print(\"ANS : \",len(ans),\"   -   \",ans)\n",
    "        inner_loop_length = inner_loop_length - j\n",
    "        if(key<ans[j]):\n",
    "            insert_index = j\n",
    "        else:\n",
    "            break\n",
    "        \n",
    "                          \n",
    "\n",
    "    ans.insert(insert_index,key)\n",
    "        \n",
    "#arr3 = arr1 + arr2\n",
    "#arr3.sort()\n",
    "print(ans)"
   ]
  },
  {
   "cell_type": "code",
   "execution_count": 8,
   "id": "f3b6388e",
   "metadata": {},
   "outputs": [
    {
     "name": "stdout",
     "output_type": "stream",
     "text": [
      "[4]\n",
      "4\n"
     ]
    }
   ],
   "source": [
    "lis = [1,2,3,4,5]\n",
    "print(lis[len(lis)-2:len(lis)-3:-1])\n",
    "print(lis[len(lis)-2])"
   ]
  },
  {
   "cell_type": "code",
   "execution_count": 12,
   "id": "9e33eecd",
   "metadata": {},
   "outputs": [
    {
     "data": {
      "text/plain": [
       "True"
      ]
     },
     "execution_count": 12,
     "metadata": {},
     "output_type": "execute_result"
    }
   ],
   "source": [
    "\"aac\">\"aab\""
   ]
  },
  {
   "cell_type": "code",
   "execution_count": 2,
   "id": "4c99cda3",
   "metadata": {},
   "outputs": [],
   "source": [
    "class MergeArraySolution:\n",
    "    # @param A : tuple of integers\n",
    "    # @param B : tuple of integers\n",
    "    # @return a list of integers\n",
    "    def solve(self, A, B):\n",
    "        C = list(A)\n",
    "        for i in range(len(B)):\n",
    "            key = B[i]\n",
    "            j = len(C)\n",
    "            \n",
    "            while j>0 and key<C[j-1]:\n",
    "                j-=1\n",
    "            \n",
    "            C.insert(j,key)\n",
    "            \n",
    "        return C "
   ]
  },
  {
   "cell_type": "code",
   "execution_count": 3,
   "id": "d0a07bf7",
   "metadata": {},
   "outputs": [
    {
     "name": "stdout",
     "output_type": "stream",
     "text": [
      "[-9, -6, -5, 1, 3, 3, 6, 6, 6, 6, 7, 18]\n"
     ]
    }
   ],
   "source": [
    "arr1 = (-6, -5, 1,3,6,6,6,7)\n",
    "arr2 = (-9,3,6,18)\n",
    "s = MergeArraySolution()\n",
    "print(s.solve(arr1,arr2))"
   ]
  },
  {
   "cell_type": "code",
   "execution_count": 5,
   "id": "5629f394",
   "metadata": {},
   "outputs": [],
   "source": [
    "class MaxProfitSolution:\n",
    "    # @param A : tuple of integers\n",
    "    # @return an integer\n",
    "    def maxProfit(self, A):\n",
    "        \n",
    "        max, min = A[0], A[0]\n",
    "        min_indices = []\n",
    "        max_indices = []\n",
    "        max_profit = 0\n",
    "        \n",
    "        for i in range(len(A)):\n",
    "            if A[i] < min:\n",
    "                min = A[i]\n",
    "                min_indices.append(i)\n",
    "            \n",
    "            if A[i] > max:\n",
    "                max = A[i]\n",
    "                max_indices.append(i)\n",
    "            \n",
    "              \n",
    "        for min_day in min_indices:\n",
    "            for max_day in max_indices:\n",
    "                if(min_day < max_day):\n",
    "                    max_profit=max_profit + (max-min)\n",
    "        \n",
    "        return max_profit"
   ]
  },
  {
   "cell_type": "code",
   "execution_count": 8,
   "id": "e20233a7",
   "metadata": {},
   "outputs": [
    {
     "name": "stdout",
     "output_type": "stream",
     "text": [
      "4\n"
     ]
    }
   ],
   "source": [
    "#A = [1,1,4,3,2,1]\n",
    "A = [2,1,5]\n",
    "mps = MaxProfitSolution()\n",
    "print(mps.maxProfit(A))"
   ]
  },
  {
   "cell_type": "markdown",
   "id": "c9bcfab4",
   "metadata": {},
   "source": [
    "## TWO POINTER MERGE OF ARRAYS"
   ]
  },
  {
   "cell_type": "code",
   "execution_count": 16,
   "id": "c269b640",
   "metadata": {},
   "outputs": [
    {
     "name": "stdout",
     "output_type": "stream",
     "text": [
      "PASS i =  0   j   0  MERGED ARRAY   :  []\n",
      "PASS i =  0   j   1  MERGED ARRAY   :  [-9]\n",
      "PASS i =  1   j   1  MERGED ARRAY   :  [-9, -6]\n",
      "PASS i =  2   j   1  MERGED ARRAY   :  [-9, -6, -5]\n",
      "PASS i =  2   j   2  MERGED ARRAY   :  [-9, -6, -5, 0]\n",
      "PASS i =  3   j   2  MERGED ARRAY   :  [-9, -6, -5, 0, 1]\n",
      "PASS i =  3   j   3  MERGED ARRAY   :  [-9, -6, -5, 0, 1, 3]\n",
      "PASS i =  4   j   3  MERGED ARRAY   :  [-9, -6, -5, 0, 1, 3, 3]\n",
      "PASS i =  4   j   4  MERGED ARRAY   :  [-9, -6, -5, 0, 1, 3, 3, 6]\n",
      "PASS i =  5   j   4  MERGED ARRAY   :  [-9, -6, -5, 0, 1, 3, 3, 6, 6]\n",
      "PASS i =  6   j   4  MERGED ARRAY   :  [-9, -6, -5, 0, 1, 3, 3, 6, 6, 6]\n",
      "PASS i =  7   j   4  MERGED ARRAY   :  [-9, -6, -5, 0, 1, 3, 3, 6, 6, 6, 6]\n",
      "PASS i =  8   j   4  MERGED ARRAY   :  [-9, -6, -5, 0, 1, 3, 3, 6, 6, 6, 6, 7]\n",
      "PASS i =  8   j   5  MERGED ARRAY   :  [-9, -6, -5, 0, 1, 3, 3, 6, 6, 6, 6, 7, 18]\n",
      "PASS i =  8   j   6  MERGED ARRAY   :  [-9, -6, -5, 0, 1, 3, 3, 6, 6, 6, 6, 7, 18, 19]\n",
      "PASS i =  8   j   7  MERGED ARRAY   :  [-9, -6, -5, 0, 1, 3, 3, 6, 6, 6, 6, 7, 18, 19, 20]\n",
      "PASS i =  9   j   7  MERGED ARRAY   :  [-9, -6, -5, 0, 1, 3, 3, 6, 6, 6, 6, 7, 18, 19, 20, 55]\n",
      "PASS i =  10   j   7  MERGED ARRAY   :  [-9, -6, -5, 0, 1, 3, 3, 6, 6, 6, 6, 7, 18, 19, 20, 55, 66]\n",
      "[-9, -6, -5, 0, 1, 3, 3, 6, 6, 6, 6, 7, 18, 19, 20, 55, 66, 77]\n"
     ]
    }
   ],
   "source": [
    "A = (-6, -5, 1,3,6,6,6,7,55,66,77)\n",
    "B = (-9,0,3,6,18,19,20)\n",
    "C = []\n",
    "\n",
    "i = 0\n",
    "j = 0\n",
    "\n",
    "while(i!=len(A) or j!=len(B)):\n",
    "    print(\"PASS i = \",i,\"  j  \",j,\" MERGED ARRAY   : \",C)\n",
    "    if(i<len(A) and j<len(B)):\n",
    "        if(A[i] < B[j]):\n",
    "            C.append(A[i])\n",
    "            i+=1\n",
    "        else:\n",
    "            C.append(B[j])\n",
    "            j+=1\n",
    "            \n",
    "    elif(i<len(A)):\n",
    "        C.append(A[i])\n",
    "        i+=1\n",
    "        \n",
    "    elif(j<len(B)):\n",
    "        C.append(B[j])\n",
    "        j+=1\n",
    "    \n",
    "    \n",
    "\n",
    "print(C)\n"
   ]
  },
  {
   "cell_type": "code",
   "execution_count": 17,
   "id": "d4f0c61d",
   "metadata": {},
   "outputs": [],
   "source": [
    "def factorial(n):\n",
    "    return n*factorial(n-1)\n",
    "    "
   ]
  },
  {
   "cell_type": "code",
   "execution_count": null,
   "id": "1fb75a1a",
   "metadata": {},
   "outputs": [],
   "source": [
    "print(factorial(2))"
   ]
  },
  {
   "cell_type": "code",
   "execution_count": null,
   "id": "310c9679",
   "metadata": {},
   "outputs": [],
   "source": []
  }
 ],
 "metadata": {
  "kernelspec": {
   "display_name": "Python 3 (ipykernel)",
   "language": "python",
   "name": "python3"
  },
  "language_info": {
   "codemirror_mode": {
    "name": "ipython",
    "version": 3
   },
   "file_extension": ".py",
   "mimetype": "text/x-python",
   "name": "python",
   "nbconvert_exporter": "python",
   "pygments_lexer": "ipython3",
   "version": "3.9.12"
  }
 },
 "nbformat": 4,
 "nbformat_minor": 5
}
